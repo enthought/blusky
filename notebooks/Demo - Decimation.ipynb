{
 "cells": [
  {
   "cell_type": "code",
   "execution_count": 46,
   "metadata": {
    "collapsed": false,
    "deletable": true,
    "editable": true
   },
   "outputs": [],
   "source": [
    "from h5py import File as H5File\n",
    "from PIL import Image\n",
    "from keras.layers import Input\n",
    "from keras.models import Model, Sequential\n",
    "import matplotlib.pylab as plt\n",
    "import numpy as np\n",
    "from skimage.exposure import equalize_hist\n",
    "\n",
    "import blusky.datasets as datasets\n",
    "from blusky.transforms.cascade_2d import Cascade2D\n",
    "from blusky.transforms.default_decimation import DefaultDecimation, NoDecimation\n",
    "\n",
    "# from blusky.wavelets.i_wavelet_2d import IWavelet2D\n",
    "from blusky.wavelets.morlet2d import Morlet2D"
   ]
  },
  {
   "cell_type": "code",
   "execution_count": 52,
   "metadata": {
    "collapsed": false,
    "deletable": true,
    "editable": true
   },
   "outputs": [
    {
     "name": "stdout",
     "output_type": "stream",
     "text": [
      "__________________________________________________________________________________________________\n",
      "Layer (type)                    Output Shape         Param #     Connected to                     \n",
      "==================================================================================================\n",
      "input_9 (InputLayer)            (None, 99, 99, 1)    0                                            \n",
      "__________________________________________________________________________________________________\n",
      "depthwise_conv2d_99 (DepthwiseC (None, 99, 99, 3)    510         input_9[0][0]                    \n",
      "__________________________________________________________________________________________________\n",
      "depthwise_conv2d_100 (Depthwise (None, 99, 99, 3)    510         input_9[0][0]                    \n",
      "__________________________________________________________________________________________________\n",
      "depthwise_conv2d_101 (Depthwise (None, 50, 50, 3)    870         input_9[0][0]                    \n",
      "__________________________________________________________________________________________________\n",
      "depthwise_conv2d_102 (Depthwise (None, 50, 50, 3)    870         input_9[0][0]                    \n",
      "__________________________________________________________________________________________________\n",
      "lambda_50 (Lambda)              (None, 99, 99, 3)    0           depthwise_conv2d_99[0][0]        \n",
      "                                                                 depthwise_conv2d_100[0][0]       \n",
      "__________________________________________________________________________________________________\n",
      "lambda_51 (Lambda)              (None, 50, 50, 3)    0           depthwise_conv2d_101[0][0]       \n",
      "                                                                 depthwise_conv2d_102[0][0]       \n",
      "__________________________________________________________________________________________________\n",
      "add_50 (Add)                    (None, 99, 99, 3)    0           lambda_50[0][0]                  \n",
      "                                                                 lambda_50[1][0]                  \n",
      "__________________________________________________________________________________________________\n",
      "add_51 (Add)                    (None, 50, 50, 3)    0           lambda_51[0][0]                  \n",
      "                                                                 lambda_51[1][0]                  \n",
      "__________________________________________________________________________________________________\n",
      "xpsi1 (Lambda)                  (None, 99, 99, 3)    0           add_50[0][0]                     \n",
      "__________________________________________________________________________________________________\n",
      "xpsi2 (Lambda)                  (None, 50, 50, 3)    0           add_51[0][0]                     \n",
      "__________________________________________________________________________________________________\n",
      "depthwise_conv2d_103 (Depthwise (None, 25, 25, 3)    3270        input_9[0][0]                    \n",
      "__________________________________________________________________________________________________\n",
      "depthwise_conv2d_104 (Depthwise (None, 25, 25, 3)    3270        input_9[0][0]                    \n",
      "__________________________________________________________________________________________________\n",
      "depthwise_conv2d_105 (Depthwise (None, 50, 50, 9)    2610        xpsi1[0][0]                      \n",
      "__________________________________________________________________________________________________\n",
      "depthwise_conv2d_106 (Depthwise (None, 50, 50, 9)    2610        xpsi1[0][0]                      \n",
      "__________________________________________________________________________________________________\n",
      "depthwise_conv2d_107 (Depthwise (None, 25, 25, 9)    9810        xpsi1[0][0]                      \n",
      "__________________________________________________________________________________________________\n",
      "depthwise_conv2d_108 (Depthwise (None, 25, 25, 9)    9810        xpsi1[0][0]                      \n",
      "__________________________________________________________________________________________________\n",
      "depthwise_conv2d_109 (Depthwise (None, 13, 13, 9)    2313        xpsi2[0][0]                      \n",
      "__________________________________________________________________________________________________\n",
      "depthwise_conv2d_110 (Depthwise (None, 13, 13, 9)    2313        xpsi2[0][0]                      \n",
      "__________________________________________________________________________________________________\n",
      "lambda_52 (Lambda)              (None, 25, 25, 3)    0           depthwise_conv2d_103[0][0]       \n",
      "                                                                 depthwise_conv2d_104[0][0]       \n",
      "__________________________________________________________________________________________________\n",
      "lambda_53 (Lambda)              (None, 50, 50, 9)    0           depthwise_conv2d_105[0][0]       \n",
      "                                                                 depthwise_conv2d_106[0][0]       \n",
      "__________________________________________________________________________________________________\n",
      "lambda_54 (Lambda)              (None, 25, 25, 9)    0           depthwise_conv2d_107[0][0]       \n",
      "                                                                 depthwise_conv2d_108[0][0]       \n",
      "__________________________________________________________________________________________________\n",
      "lambda_55 (Lambda)              (None, 13, 13, 9)    0           depthwise_conv2d_109[0][0]       \n",
      "                                                                 depthwise_conv2d_110[0][0]       \n",
      "__________________________________________________________________________________________________\n",
      "add_52 (Add)                    (None, 25, 25, 3)    0           lambda_52[0][0]                  \n",
      "                                                                 lambda_52[1][0]                  \n",
      "__________________________________________________________________________________________________\n",
      "add_53 (Add)                    (None, 50, 50, 9)    0           lambda_53[0][0]                  \n",
      "                                                                 lambda_53[1][0]                  \n",
      "__________________________________________________________________________________________________\n",
      "add_54 (Add)                    (None, 25, 25, 9)    0           lambda_54[0][0]                  \n",
      "                                                                 lambda_54[1][0]                  \n",
      "__________________________________________________________________________________________________\n",
      "add_55 (Add)                    (None, 13, 13, 9)    0           lambda_55[0][0]                  \n",
      "                                                                 lambda_55[1][0]                  \n",
      "__________________________________________________________________________________________________\n",
      "xpsi3 (Lambda)                  (None, 25, 25, 3)    0           add_52[0][0]                     \n",
      "__________________________________________________________________________________________________\n",
      "xpsi1psi2 (Lambda)              (None, 50, 50, 9)    0           add_53[0][0]                     \n",
      "__________________________________________________________________________________________________\n",
      "xpsi1psi3 (Lambda)              (None, 25, 25, 9)    0           add_54[0][0]                     \n",
      "__________________________________________________________________________________________________\n",
      "xpsi2psi3 (Lambda)              (None, 13, 13, 9)    0           add_55[0][0]                     \n",
      "==================================================================================================\n",
      "Total params: 38,766\n",
      "Trainable params: 0\n",
      "Non-trainable params: 38,766\n",
      "__________________________________________________________________________________________________\n"
     ]
    }
   ],
   "source": [
    "wav1 = Morlet2D(sample_rate=0.004, \n",
    "               center_frequency=90., \n",
    "               bandwidth=(50.,25.), \n",
    "               crop=3.5,\n",
    "               taper=False)\n",
    "\n",
    "wav2 = Morlet2D(sample_rate=0.004, \n",
    "               center_frequency=45., \n",
    "               bandwidth=(40.,20), \n",
    "               crop=3.5,\n",
    "               taper=False)\n",
    "\n",
    "wav3 = Morlet2D(sample_rate=0.004, \n",
    "               center_frequency=22.5, \n",
    "               bandwidth=(20,10.), \n",
    "               crop=3.5,\n",
    "               taper=False)\n",
    "\n",
    "\n",
    "inp = Input(shape=(99,99,1))\n",
    "cascade = Cascade2D(\"none\", 0, \n",
    "                    decimation=DefaultDecimation(oversampling=1),\n",
    "                    angles=(0.0, 45., 90.), \n",
    "                    wavelets=[wav1, wav2, wav3])\n",
    "\n",
    "# create the transform\n",
    "result = cascade.transform(inp)\n",
    "\n",
    "model = Model(inputs=inp, outputs=result)\n",
    "model.summary()"
   ]
  },
  {
   "cell_type": "code",
   "execution_count": 53,
   "metadata": {
    "collapsed": true,
    "deletable": true,
    "editable": true
   },
   "outputs": [],
   "source": [
    "from os import path\n",
    "\n",
    "imgs = []\n",
    "for label in ['chaotic', 'fault', 'salt', 'horizon']:\n",
    "    for im in range(0,3):\n",
    "        data = path.join(\n",
    "            path.join(path.dirname(datasets.__file__), \"test_tiles\"), \"{}{}.png\".format(label, im)\n",
    "        )\n",
    "        data = np.array(Image.open(data)).astype(np.float32)\n",
    "        data /= np.max(data)\n",
    "        \n",
    "        imgs.append(data)\n",
    "imgs = np.array(imgs)\n",
    "imgs.shape = list(imgs.shape) + [1]"
   ]
  },
  {
   "cell_type": "code",
   "execution_count": 54,
   "metadata": {
    "collapsed": false
   },
   "outputs": [
    {
     "data": {
      "text/plain": [
       "(12, 99, 99, 1)"
      ]
     },
     "execution_count": 54,
     "metadata": {},
     "output_type": "execute_result"
    }
   ],
   "source": [
    "imgs.shape"
   ]
  },
  {
   "cell_type": "code",
   "execution_count": 55,
   "metadata": {
    "collapsed": false,
    "deletable": true,
    "editable": true
   },
   "outputs": [],
   "source": [
    "result = model.predict(imgs)"
   ]
  },
  {
   "cell_type": "code",
   "execution_count": 56,
   "metadata": {
    "collapsed": false,
    "deletable": true,
    "editable": true
   },
   "outputs": [
    {
     "data": {
      "image/png": "[encoded data removed]",
      "text/plain": [
       "<Figure size 432x288 with 1 Axes>"
      ]
     },
     "metadata": {
      "needs_background": "light"
     },
     "output_type": "display_data"
    }
   ],
   "source": [
    "plt.figure()\n",
    "plt.imshow(result[4][-1,:,:,0])\n",
    "plt.show()"
   ]
  },
  {
   "cell_type": "code",
   "execution_count": 59,
   "metadata": {
    "collapsed": false
   },
   "outputs": [
    {
     "name": "stdout",
     "output_type": "stream",
     "text": [
      "(12, 99, 99, 3)\n",
      "(12, 50, 50, 3)\n",
      "(12, 25, 25, 3)\n",
      "(12, 50, 50, 9)\n",
      "(12, 25, 25, 9)\n",
      "(12, 13, 13, 9)\n"
     ]
    }
   ],
   "source": [
    "for r in result:\n",
    "    print(r.shape)"
   ]
  },
  {
   "cell_type": "code",
   "execution_count": null,
   "metadata": {
    "collapsed": true
   },
   "outputs": [],
   "source": []
  }
 ],
 "metadata": {
  "kernelspec": {
   "display_name": "blusky",
   "language": "python",
   "name": "blusky"
  },
  "language_info": {
   "codemirror_mode": {
    "name": "ipython",
    "version": 3
   },
   "file_extension": ".py",
   "mimetype": "text/x-python",
   "name": "python",
   "nbconvert_exporter": "python",
   "pygments_lexer": "ipython3",
   "version": "3.6.5"
  }
 },
 "nbformat": 4,
 "nbformat_minor": 2
}

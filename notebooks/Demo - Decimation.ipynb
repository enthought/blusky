{
 "cells": [
  {
   "cell_type": "code",
   "execution_count": 1,
   "metadata": {
    "collapsed": false,
    "deletable": true,
    "editable": true
   },
   "outputs": [
    {
     "name": "stderr",
     "output_type": "stream",
     "text": [
      "Using TensorFlow backend.\n",
      "/Users/blasscock/.edm/envs/blusky/lib/python3.6/site-packages/dask/config.py:168: YAMLLoadWarning: calling yaml.load() without Loader=... is deprecated, as the default Loader is unsafe. Please read https://msg.pyyaml.org/load for full details.\n",
      "  data = yaml.load(f.read()) or {}\n"
     ]
    }
   ],
   "source": [
    "from h5py import File as H5File\n",
    "from PIL import Image\n",
    "from keras.layers import Input\n",
    "from keras.models import Model, Sequential\n",
    "import matplotlib.pylab as plt\n",
    "import numpy as np\n",
    "from skimage.exposure import equalize_hist\n",
    "\n",
    "import blusky.datasets as datasets\n",
    "from blusky.transforms.cascade_2d import Cascade2D\n",
    "from blusky.transforms.default_decimation import DefaultDecimation\n",
    "\n",
    "from blusky.wavelets.i_wavelet_2d import IWavelet2D\n",
    "from blusky.wavelets.morlet2d import Morlet2D"
   ]
  },
  {
   "cell_type": "code",
   "execution_count": 2,
   "metadata": {
    "collapsed": false,
    "deletable": true,
    "editable": true
   },
   "outputs": [
    {
     "name": "stderr",
     "output_type": "stream",
     "text": [
      "WARNING: Logging before flag parsing goes to stderr.\n",
      "W0827 10:02:01.406101 4321104768 deprecation_wrapper.py:119] From /Users/blasscock/.edm/envs/blusky/lib/python3.6/site-packages/keras/backend/tensorflow_backend.py:74: The name tf.get_default_graph is deprecated. Please use tf.compat.v1.get_default_graph instead.\n",
      "\n",
      "W0827 10:02:01.417341 4321104768 deprecation_wrapper.py:119] From /Users/blasscock/.edm/envs/blusky/lib/python3.6/site-packages/keras/backend/tensorflow_backend.py:517: The name tf.placeholder is deprecated. Please use tf.compat.v1.placeholder instead.\n",
      "\n",
      "W0827 10:02:01.426253 4321104768 deprecation.py:323] From /Users/blasscock/.edm/envs/blusky/lib/python3.6/site-packages/tensorflow/python/ops/variables.py:2618: Variable.initialized_value (from tensorflow.python.ops.variables) is deprecated and will be removed in a future version.\n",
      "Instructions for updating:\n",
      "Use Variable.read_value. Variables in 2.X are initialized automatically both in eager and graph (inside tf.defun) contexts.\n"
     ]
    },
    {
     "name": "stdout",
     "output_type": "stream",
     "text": [
      "xpsi1\n",
      "1 1 (13, 13, 1, 3)\n",
      "1 1 (13, 13, 1, 3)\n",
      "xpsi2\n",
      "1 2 (17, 17, 1, 3)\n",
      "1 2 (17, 17, 1, 3)\n",
      "xpsi3\n",
      "1 4 (33, 33, 1, 3)\n",
      "1 4 (33, 33, 1, 3)\n",
      "xpsi1psi2\n",
      "1 2 (17, 17, 3, 3)\n",
      "1 2 (17, 17, 3, 3)\n",
      "xpsi1psi3\n",
      "1 4 (33, 33, 3, 3)\n",
      "1 4 (33, 33, 3, 3)\n",
      "xpsi2psi3\n",
      "2 4 (16, 16, 3, 3)\n",
      "2 4 (16, 16, 3, 3)\n",
      "xpsi1psi2psi3\n",
      "2 4 (16, 16, 9, 3)\n",
      "2 4 (16, 16, 9, 3)\n",
      "Layer 0\n",
      "( x, 0 )\n",
      "Layer 1\n",
      "( |x*psi_1|, 1 )\n",
      "( |x*psi_2|, 2 )\n",
      "( |x*psi_3|, 3 )\n",
      "Layer 2\n",
      "( ||x*psi_1|*psi_2|, 2 )\n",
      "( ||x*psi_1|*psi_3|, 3 )\n",
      "( ||x*psi_2|*psi_3|, 3 )\n",
      "__________________________________________________________________________________________________\n",
      "Layer (type)                    Output Shape         Param #     Connected to                     \n",
      "==================================================================================================\n",
      "input_1 (InputLayer)            (None, 99, 99, 1)    0                                            \n",
      "__________________________________________________________________________________________________\n",
      "depthwise_conv2d_1 (DepthwiseCo (None, 99, 99, 3)    510         input_1[0][0]                    \n",
      "__________________________________________________________________________________________________\n",
      "depthwise_conv2d_2 (DepthwiseCo (None, 99, 99, 3)    510         input_1[0][0]                    \n",
      "__________________________________________________________________________________________________\n",
      "depthwise_conv2d_3 (DepthwiseCo (None, 50, 50, 3)    870         input_1[0][0]                    \n",
      "__________________________________________________________________________________________________\n",
      "depthwise_conv2d_4 (DepthwiseCo (None, 50, 50, 3)    870         input_1[0][0]                    \n",
      "__________________________________________________________________________________________________\n",
      "lambda_1 (Lambda)               (None, 99, 99, 3)    0           depthwise_conv2d_1[0][0]         \n",
      "                                                                 depthwise_conv2d_2[0][0]         \n",
      "__________________________________________________________________________________________________\n",
      "lambda_2 (Lambda)               (None, 50, 50, 3)    0           depthwise_conv2d_3[0][0]         \n",
      "                                                                 depthwise_conv2d_4[0][0]         \n",
      "__________________________________________________________________________________________________\n",
      "add_1 (Add)                     (None, 99, 99, 3)    0           lambda_1[0][0]                   \n",
      "                                                                 lambda_1[1][0]                   \n",
      "__________________________________________________________________________________________________\n",
      "add_2 (Add)                     (None, 50, 50, 3)    0           lambda_2[0][0]                   \n",
      "                                                                 lambda_2[1][0]                   \n",
      "__________________________________________________________________________________________________\n",
      "xpsi1 (Lambda)                  (None, 99, 99, 3)    0           add_1[0][0]                      \n",
      "__________________________________________________________________________________________________\n",
      "xpsi2 (Lambda)                  (None, 50, 50, 3)    0           add_2[0][0]                      \n",
      "__________________________________________________________________________________________________\n",
      "depthwise_conv2d_5 (DepthwiseCo (None, 25, 25, 3)    3270        input_1[0][0]                    \n",
      "__________________________________________________________________________________________________\n",
      "depthwise_conv2d_6 (DepthwiseCo (None, 25, 25, 3)    3270        input_1[0][0]                    \n",
      "__________________________________________________________________________________________________\n",
      "depthwise_conv2d_7 (DepthwiseCo (None, 50, 50, 9)    2610        xpsi1[0][0]                      \n",
      "__________________________________________________________________________________________________\n",
      "depthwise_conv2d_8 (DepthwiseCo (None, 50, 50, 9)    2610        xpsi1[0][0]                      \n",
      "__________________________________________________________________________________________________\n",
      "depthwise_conv2d_9 (DepthwiseCo (None, 25, 25, 9)    9810        xpsi1[0][0]                      \n",
      "__________________________________________________________________________________________________\n",
      "depthwise_conv2d_10 (DepthwiseC (None, 25, 25, 9)    9810        xpsi1[0][0]                      \n",
      "__________________________________________________________________________________________________\n",
      "depthwise_conv2d_11 (DepthwiseC (None, 13, 13, 9)    2313        xpsi2[0][0]                      \n",
      "__________________________________________________________________________________________________\n",
      "depthwise_conv2d_12 (DepthwiseC (None, 13, 13, 9)    2313        xpsi2[0][0]                      \n",
      "__________________________________________________________________________________________________\n",
      "lambda_3 (Lambda)               (None, 25, 25, 3)    0           depthwise_conv2d_5[0][0]         \n",
      "                                                                 depthwise_conv2d_6[0][0]         \n",
      "__________________________________________________________________________________________________\n",
      "lambda_4 (Lambda)               (None, 50, 50, 9)    0           depthwise_conv2d_7[0][0]         \n",
      "                                                                 depthwise_conv2d_8[0][0]         \n",
      "__________________________________________________________________________________________________\n",
      "lambda_5 (Lambda)               (None, 25, 25, 9)    0           depthwise_conv2d_9[0][0]         \n",
      "                                                                 depthwise_conv2d_10[0][0]        \n",
      "__________________________________________________________________________________________________\n",
      "lambda_6 (Lambda)               (None, 13, 13, 9)    0           depthwise_conv2d_11[0][0]        \n",
      "                                                                 depthwise_conv2d_12[0][0]        \n",
      "__________________________________________________________________________________________________\n",
      "add_3 (Add)                     (None, 25, 25, 3)    0           lambda_3[0][0]                   \n",
      "                                                                 lambda_3[1][0]                   \n",
      "__________________________________________________________________________________________________\n",
      "add_4 (Add)                     (None, 50, 50, 9)    0           lambda_4[0][0]                   \n",
      "                                                                 lambda_4[1][0]                   \n",
      "__________________________________________________________________________________________________\n",
      "add_5 (Add)                     (None, 25, 25, 9)    0           lambda_5[0][0]                   \n",
      "                                                                 lambda_5[1][0]                   \n",
      "__________________________________________________________________________________________________\n",
      "add_6 (Add)                     (None, 13, 13, 9)    0           lambda_6[0][0]                   \n",
      "                                                                 lambda_6[1][0]                   \n",
      "__________________________________________________________________________________________________\n",
      "xpsi3 (Lambda)                  (None, 25, 25, 3)    0           add_3[0][0]                      \n",
      "__________________________________________________________________________________________________\n",
      "xpsi1psi2 (Lambda)              (None, 50, 50, 9)    0           add_4[0][0]                      \n",
      "__________________________________________________________________________________________________\n",
      "xpsi1psi3 (Lambda)              (None, 25, 25, 9)    0           add_5[0][0]                      \n",
      "__________________________________________________________________________________________________\n",
      "xpsi2psi3 (Lambda)              (None, 13, 13, 9)    0           add_6[0][0]                      \n",
      "==================================================================================================\n",
      "Total params: 38,766\n",
      "Trainable params: 0\n",
      "Non-trainable params: 38,766\n",
      "__________________________________________________________________________________________________\n"
     ]
    }
   ],
   "source": [
    "wav1 = Morlet2D(sample_rate=0.004, \n",
    "               center_frequency=90., \n",
    "               bandwidth=(50.,25.), \n",
    "               crop=3.5,\n",
    "               taper=False)\n",
    "\n",
    "wav2 = Morlet2D(sample_rate=0.004, \n",
    "               center_frequency=45., \n",
    "               bandwidth=(40.,20), \n",
    "               crop=3.5,\n",
    "               taper=False)\n",
    "\n",
    "wav3 = Morlet2D(sample_rate=0.004, \n",
    "               center_frequency=22.5, \n",
    "               bandwidth=(20,10.), \n",
    "               crop=3.5,\n",
    "               taper=False)\n",
    "\n",
    "\n",
    "inp = Input(shape=(99,99,1))\n",
    "cascade = Cascade2D(\"none\", 0, \n",
    "                    decimation=DefaultDecimation(oversampling=1),\n",
    "                    angles=(0.0, 45., 90.), \n",
    "                    wavelets=[wav1, wav2, wav3])\n",
    "\n",
    "# create the transform\n",
    "result = cascade.transform(inp)\n",
    "\n",
    "model = Model(inputs=inp, outputs=result)\n",
    "model.summary()"
   ]
  },
  {
   "cell_type": "code",
   "execution_count": 19,
   "metadata": {
    "collapsed": false,
    "deletable": true,
    "editable": true
   },
   "outputs": [
    {
     "data": {
      "text/plain": [
       "(12, 99, 99, 1)"
      ]
     },
     "execution_count": 19,
     "metadata": {},
     "output_type": "execute_result"
    }
   ],
   "source": [
    "imgs.shape"
   ]
  },
  {
   "cell_type": "code",
   "execution_count": 3,
   "metadata": {
    "collapsed": true,
    "deletable": true,
    "editable": true
   },
   "outputs": [],
   "source": [
    "from os import path\n",
    "\n",
    "imgs = []\n",
    "for label in ['chaotic', 'fault', 'salt', 'horizon']:\n",
    "    for im in range(0,3):\n",
    "        data = path.join(\n",
    "            path.join(path.dirname(datasets.__file__), \"test_tiles\"), \"{}{}.png\".format(label, im)\n",
    "        )\n",
    "        data = np.array(Image.open(data)).astype(np.float32)\n",
    "        data /= np.max(data)\n",
    "        \n",
    "        imgs.append(data)\n",
    "imgs = np.array(imgs)\n",
    "imgs.shape = list(imgs.shape) + [1]"
   ]
  },
  {
   "cell_type": "code",
   "execution_count": 4,
   "metadata": {
    "collapsed": false,
    "deletable": true,
    "editable": true
   },
   "outputs": [
    {
     "name": "stderr",
     "output_type": "stream",
     "text": [
      "W0827 10:16:42.447720 4321104768 deprecation_wrapper.py:119] From /Users/blasscock/.edm/envs/blusky/lib/python3.6/site-packages/keras/backend/tensorflow_backend.py:2741: The name tf.Session is deprecated. Please use tf.compat.v1.Session instead.\n",
      "\n",
      "W0827 10:16:42.450963 4321104768 deprecation_wrapper.py:119] From /Users/blasscock/.edm/envs/blusky/lib/python3.6/site-packages/keras/backend/tensorflow_backend.py:174: The name tf.get_default_session is deprecated. Please use tf.compat.v1.get_default_session instead.\n",
      "\n",
      "W0827 10:16:42.451621 4321104768 deprecation_wrapper.py:119] From /Users/blasscock/.edm/envs/blusky/lib/python3.6/site-packages/keras/backend/tensorflow_backend.py:181: The name tf.ConfigProto is deprecated. Please use tf.compat.v1.ConfigProto instead.\n",
      "\n"
     ]
    }
   ],
   "source": [
    "result = model.predict(imgs)"
   ]
  },
  {
   "cell_type": "code",
   "execution_count": 17,
   "metadata": {
    "collapsed": false,
    "deletable": true,
    "editable": true
   },
   "outputs": [
    {
     "data": {
      "image/png": "[encoded data removed]",
      "text/plain": [
       "<Figure size 432x288 with 1 Axes>"
      ]
     },
     "metadata": {},
     "output_type": "display_data"
    }
   ],
   "source": [
    "plt.figure()\n",
    "plt.imshow(result[4][-1,:,:,2])\n",
    "plt.show()"
   ]
  }
 ],
 "metadata": {
  "kernelspec": {
   "display_name": "Python 3",
   "language": "python",
   "name": "python3"
  },
  "language_info": {
   "codemirror_mode": {
    "name": "ipython",
    "version": 3
   },
   "file_extension": ".py",
   "mimetype": "text/x-python",
   "name": "python",
   "nbconvert_exporter": "python",
   "pygments_lexer": "ipython3",
   "version": "3.6.5"
  }
 },
 "nbformat": 4,
 "nbformat_minor": 2
}

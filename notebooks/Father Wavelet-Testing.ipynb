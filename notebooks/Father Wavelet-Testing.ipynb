{
 "cells": [
  {
   "cell_type": "code",
   "execution_count": 1,
   "metadata": {
    "collapsed": false,
    "deletable": true,
    "editable": true
   },
   "outputs": [
    {
     "name": "stderr",
     "output_type": "stream",
     "text": [
      "Using TensorFlow backend.\n"
     ]
    }
   ],
   "source": [
    "from os import path \n",
    "\n",
    "from keras.layers import Input\n",
    "from keras.models import Model\n",
    "\n",
    "import numpy as np\n",
    "\n",
    "import blusky.datasets as datasets\n",
    "from blusky.transforms.apply_father_wavelet_2d import ApplyFatherWavlet2D\n",
    "from blusky.transforms.cascade_2d import Cascade2D\n",
    "from blusky.transforms.cascade_tree import CascadeTree\n",
    "from blusky.transforms.default_decimation import DefaultDecimation, NoDecimation\n",
    "from blusky.utils.pad_2d import Pad2D, pad_to_log2\n",
    "from blusky.wavelets.wavelet_factories_2d import vanilla_gabor_2d, vanilla_morlet_2d\n",
    "\n",
    "from scipy.signal import convolve2d"
   ]
  },
  {
   "cell_type": "code",
   "execution_count": 2,
   "metadata": {
    "collapsed": false,
    "deletable": true,
    "editable": true
   },
   "outputs": [],
   "source": [
    "test_file_1 = path.join(\n",
    "    path.dirname(datasets.__file__), \"twod_image_1.npy\")\n",
    "\n",
    "original_image = np.load(test_file_1)\n",
    "original_shape = original_image.shape\n",
    "\n",
    "# get a single tile from the image to test\n",
    "# note this image is currently unpadded.  \n",
    "# how many boundary elements are needed to pad?\n",
    "extracted_image = original_image[0:32,0:32]\n",
    "extracted_shape = extracted_image.shape\n",
    "\n",
    "img = np.expand_dims(extracted_image, axis=-1)"
   ]
  },
  {
   "cell_type": "code",
   "execution_count": 3,
   "metadata": {
    "collapsed": false,
    "deletable": true,
    "editable": true
   },
   "outputs": [
    {
     "name": "stderr",
     "output_type": "stream",
     "text": [
      "WARNING: Logging before flag parsing goes to stderr.\n",
      "W1009 13:52:10.955075 4640142784 deprecation_wrapper.py:119] From /Users/bhall/.edm/envs/blusky/lib/python3.6/site-packages/keras/backend/tensorflow_backend.py:74: The name tf.get_default_graph is deprecated. Please use tf.compat.v1.get_default_graph instead.\n",
      "\n",
      "W1009 13:52:10.969797 4640142784 deprecation_wrapper.py:119] From /Users/bhall/.edm/envs/blusky/lib/python3.6/site-packages/keras/backend/tensorflow_backend.py:517: The name tf.placeholder is deprecated. Please use tf.compat.v1.placeholder instead.\n",
      "\n",
      "W1009 13:52:10.995784 4640142784 deprecation.py:323] From /Users/bhall/.edm/envs/blusky/lib/python3.6/site-packages/tensorflow/python/ops/variables.py:2618: Variable.initialized_value (from tensorflow.python.ops.variables) is deprecated and will be removed in a future version.\n",
      "Instructions for updating:\n",
      "Use Variable.read_value. Variables in 2.X are initialized automatically both in eager and graph (inside tf.defun) contexts.\n"
     ]
    },
    {
     "name": "stdout",
     "output_type": "stream",
     "text": [
      "(31, 31)\n"
     ]
    }
   ],
   "source": [
    "# Don't make this too huge for brevity.\n",
    "J = 3\n",
    "# 0 = no overlap etc.\n",
    "overlap_log_2 = 0\n",
    "# apply to all available orders\n",
    "order = J\n",
    "# Should be one or more to avoid aliasing, if you want overlapping tiles, \n",
    "# this can increase too.\n",
    "oversampling = 0\n",
    "\n",
    "angles=(0.0, 45., 90.)\n",
    "\n",
    "\n",
    "# details of the input data\n",
    "img_size = img.shape\n",
    "sample_rate = 0.004*3\n",
    "\n",
    "# vanilla filter bank\n",
    "wavelets = [vanilla_morlet_2d(sample_rate, j=i) for i in range(0,J)]\n",
    "father_wavelet = vanilla_gabor_2d(sample_rate, j=J)\n",
    "print (father_wavelet.kernel(0.).shape)\n",
    "# method of decimation\n",
    "deci = NoDecimation() # DefaultDecimation(oversampling=oversampling)\n",
    "\n",
    "# input\n",
    "inp = Input(shape=img.shape)\n",
    "\n",
    "# valid padding\n",
    "cascade2d = Cascade2D(\"none\", \n",
    "                    0, \n",
    "                    decimation=deci,\n",
    "                    angles=angles)\n",
    "\n",
    "# Pad the input\n",
    "pad_2d = Pad2D(wavelets, decimation=deci)\n",
    "padded = pad_2d.pad(inp)\n",
    "\n",
    "# Apply cascade with successive decimation\n",
    "cascade_tree = CascadeTree(padded, order=order)\n",
    "cascade_tree.generate(wavelets, cascade2d._convolve)\n",
    "convs = cascade_tree.get_convolutions()\n",
    "\n",
    "# Create layers to remove padding\n",
    "cascade_tree = CascadeTree(padded, order=order)\n",
    "cascade_tree.generate(wavelets, pad_2d._unpad_same)\n",
    "unpad = cascade_tree.get_convolutions()\n",
    "\n",
    "# Remove the padding\n",
    "unpadded_convs = [i[1](i[0]) for i in zip(convs, unpad)]\n",
    "\n",
    "# Complete the scattering transform with the father wavelet\n",
    "apply_conv = ApplyFatherWavlet2D(J=J, overlap_log_2=overlap_log_2, \n",
    "                              img_size=img.shape, sample_rate=sample_rate,\n",
    "                              wavelet=father_wavelet)\n",
    "\n",
    "sca_transf = apply_conv.convolve(unpadded_convs)"
   ]
  },
  {
   "cell_type": "code",
   "execution_count": 4,
   "metadata": {
    "collapsed": false,
    "deletable": true,
    "editable": true,
    "scrolled": false
   },
   "outputs": [
    {
     "name": "stdout",
     "output_type": "stream",
     "text": [
      "__________________________________________________________________________________________________\n",
      "Layer (type)                    Output Shape         Param #     Connected to                     \n",
      "==================================================================================================\n",
      "input_1 (InputLayer)            (None, 32, 32, 1)    0                                            \n",
      "__________________________________________________________________________________________________\n",
      "reflection_padding2d_1 (Reflect (None, 64, 64, 1)    0           input_1[0][0]                    \n",
      "__________________________________________________________________________________________________\n",
      "depthwise_conv2d_1 (DepthwiseCo (None, 64, 64, 3)    150         reflection_padding2d_1[0][0]     \n",
      "__________________________________________________________________________________________________\n",
      "depthwise_conv2d_2 (DepthwiseCo (None, 64, 64, 3)    150         reflection_padding2d_1[0][0]     \n",
      "__________________________________________________________________________________________________\n",
      "lambda_1 (Lambda)               (None, 64, 64, 3)    0           depthwise_conv2d_1[0][0]         \n",
      "                                                                 depthwise_conv2d_2[0][0]         \n",
      "__________________________________________________________________________________________________\n",
      "add_1 (Add)                     (None, 64, 64, 3)    0           lambda_1[0][0]                   \n",
      "                                                                 lambda_1[1][0]                   \n",
      "__________________________________________________________________________________________________\n",
      "xpsi1 (Lambda)                  (None, 64, 64, 3)    0           add_1[0][0]                      \n",
      "__________________________________________________________________________________________________\n",
      "depthwise_conv2d_3 (DepthwiseCo (None, 64, 64, 3)    678         reflection_padding2d_1[0][0]     \n",
      "__________________________________________________________________________________________________\n",
      "depthwise_conv2d_4 (DepthwiseCo (None, 64, 64, 3)    678         reflection_padding2d_1[0][0]     \n",
      "__________________________________________________________________________________________________\n",
      "depthwise_conv2d_7 (DepthwiseCo (None, 64, 64, 9)    2034        xpsi1[0][0]                      \n",
      "__________________________________________________________________________________________________\n",
      "depthwise_conv2d_8 (DepthwiseCo (None, 64, 64, 9)    2034        xpsi1[0][0]                      \n",
      "__________________________________________________________________________________________________\n",
      "lambda_2 (Lambda)               (None, 64, 64, 3)    0           depthwise_conv2d_3[0][0]         \n",
      "                                                                 depthwise_conv2d_4[0][0]         \n",
      "__________________________________________________________________________________________________\n",
      "lambda_4 (Lambda)               (None, 64, 64, 9)    0           depthwise_conv2d_7[0][0]         \n",
      "                                                                 depthwise_conv2d_8[0][0]         \n",
      "__________________________________________________________________________________________________\n",
      "add_2 (Add)                     (None, 64, 64, 3)    0           lambda_2[0][0]                   \n",
      "                                                                 lambda_2[1][0]                   \n",
      "__________________________________________________________________________________________________\n",
      "add_4 (Add)                     (None, 64, 64, 9)    0           lambda_4[0][0]                   \n",
      "                                                                 lambda_4[1][0]                   \n",
      "__________________________________________________________________________________________________\n",
      "xpsi2 (Lambda)                  (None, 64, 64, 3)    0           add_2[0][0]                      \n",
      "__________________________________________________________________________________________________\n",
      "xpsi1psi2 (Lambda)              (None, 64, 64, 9)    0           add_4[0][0]                      \n",
      "__________________________________________________________________________________________________\n",
      "depthwise_conv2d_5 (DepthwiseCo (None, 64, 64, 3)    2886        reflection_padding2d_1[0][0]     \n",
      "__________________________________________________________________________________________________\n",
      "depthwise_conv2d_6 (DepthwiseCo (None, 64, 64, 3)    2886        reflection_padding2d_1[0][0]     \n",
      "__________________________________________________________________________________________________\n",
      "depthwise_conv2d_9 (DepthwiseCo (None, 64, 64, 9)    8658        xpsi1[0][0]                      \n",
      "__________________________________________________________________________________________________\n",
      "depthwise_conv2d_10 (DepthwiseC (None, 64, 64, 9)    8658        xpsi1[0][0]                      \n",
      "__________________________________________________________________________________________________\n",
      "depthwise_conv2d_11 (DepthwiseC (None, 64, 64, 9)    8658        xpsi2[0][0]                      \n",
      "__________________________________________________________________________________________________\n",
      "depthwise_conv2d_12 (DepthwiseC (None, 64, 64, 9)    8658        xpsi2[0][0]                      \n",
      "__________________________________________________________________________________________________\n",
      "depthwise_conv2d_13 (DepthwiseC (None, 64, 64, 27)   25974       xpsi1psi2[0][0]                  \n",
      "__________________________________________________________________________________________________\n",
      "depthwise_conv2d_14 (DepthwiseC (None, 64, 64, 27)   25974       xpsi1psi2[0][0]                  \n",
      "__________________________________________________________________________________________________\n",
      "lambda_3 (Lambda)               (None, 64, 64, 3)    0           depthwise_conv2d_5[0][0]         \n",
      "                                                                 depthwise_conv2d_6[0][0]         \n",
      "__________________________________________________________________________________________________\n",
      "lambda_5 (Lambda)               (None, 64, 64, 9)    0           depthwise_conv2d_9[0][0]         \n",
      "                                                                 depthwise_conv2d_10[0][0]        \n",
      "__________________________________________________________________________________________________\n",
      "lambda_6 (Lambda)               (None, 64, 64, 9)    0           depthwise_conv2d_11[0][0]        \n",
      "                                                                 depthwise_conv2d_12[0][0]        \n",
      "__________________________________________________________________________________________________\n",
      "lambda_7 (Lambda)               (None, 64, 64, 27)   0           depthwise_conv2d_13[0][0]        \n",
      "                                                                 depthwise_conv2d_14[0][0]        \n",
      "__________________________________________________________________________________________________\n",
      "add_3 (Add)                     (None, 64, 64, 3)    0           lambda_3[0][0]                   \n",
      "                                                                 lambda_3[1][0]                   \n",
      "__________________________________________________________________________________________________\n",
      "add_5 (Add)                     (None, 64, 64, 9)    0           lambda_5[0][0]                   \n",
      "                                                                 lambda_5[1][0]                   \n",
      "__________________________________________________________________________________________________\n",
      "add_6 (Add)                     (None, 64, 64, 9)    0           lambda_6[0][0]                   \n",
      "                                                                 lambda_6[1][0]                   \n",
      "__________________________________________________________________________________________________\n",
      "add_7 (Add)                     (None, 64, 64, 27)   0           lambda_7[0][0]                   \n",
      "                                                                 lambda_7[1][0]                   \n",
      "__________________________________________________________________________________________________\n",
      "xpsi3 (Lambda)                  (None, 64, 64, 3)    0           add_3[0][0]                      \n",
      "__________________________________________________________________________________________________\n",
      "xpsi1psi3 (Lambda)              (None, 64, 64, 9)    0           add_5[0][0]                      \n",
      "__________________________________________________________________________________________________\n",
      "xpsi2psi3 (Lambda)              (None, 64, 64, 9)    0           add_6[0][0]                      \n",
      "__________________________________________________________________________________________________\n",
      "xpsi1psi2psi3 (Lambda)          (None, 64, 64, 27)   0           add_7[0][0]                      \n",
      "__________________________________________________________________________________________________\n",
      "xpsi1unpadded (Lambda)          (None, 32, 32, 3)    0           xpsi1[0][0]                      \n",
      "__________________________________________________________________________________________________\n",
      "xpsi2unpadded (Lambda)          (None, 32, 32, 3)    0           xpsi2[0][0]                      \n",
      "__________________________________________________________________________________________________\n",
      "xpsi3unpadded (Lambda)          (None, 32, 32, 3)    0           xpsi3[0][0]                      \n",
      "__________________________________________________________________________________________________\n",
      "xpsi1psi2unpadded (Lambda)      (None, 32, 32, 9)    0           xpsi1psi2[0][0]                  \n",
      "__________________________________________________________________________________________________\n",
      "xpsi1psi3unpadded (Lambda)      (None, 32, 32, 9)    0           xpsi1psi3[0][0]                  \n",
      "__________________________________________________________________________________________________\n",
      "xpsi2psi3unpadded (Lambda)      (None, 32, 32, 9)    0           xpsi2psi3[0][0]                  \n",
      "__________________________________________________________________________________________________\n",
      "xpsi1psi2psi3unpadded (Lambda)  (None, 32, 32, 27)   0           xpsi1psi2psi3[0][0]              \n",
      "__________________________________________________________________________________________________\n",
      "xpsi1unpaddedphi (DepthwiseConv (None, 1, 1, 3)      3075        xpsi1unpadded[0][0]              \n",
      "__________________________________________________________________________________________________\n",
      "xpsi2unpaddedphi (DepthwiseConv (None, 1, 1, 3)      3075        xpsi2unpadded[0][0]              \n",
      "__________________________________________________________________________________________________\n",
      "xpsi3unpaddedphi (DepthwiseConv (None, 1, 1, 3)      3075        xpsi3unpadded[0][0]              \n",
      "__________________________________________________________________________________________________\n",
      "xpsi1psi2unpaddedphi (Depthwise (None, 1, 1, 9)      9225        xpsi1psi2unpadded[0][0]          \n",
      "__________________________________________________________________________________________________\n",
      "xpsi1psi3unpaddedphi (Depthwise (None, 1, 1, 9)      9225        xpsi1psi3unpadded[0][0]          \n",
      "__________________________________________________________________________________________________\n",
      "xpsi2psi3unpaddedphi (Depthwise (None, 1, 1, 9)      9225        xpsi2psi3unpadded[0][0]          \n",
      "__________________________________________________________________________________________________\n",
      "xpsi1psi2psi3unpaddedphi (Depth (None, 1, 1, 27)     27675       xpsi1psi2psi3unpadded[0][0]      \n",
      "==================================================================================================\n",
      "Total params: 162,651\n",
      "Trainable params: 0\n",
      "Non-trainable params: 162,651\n",
      "__________________________________________________________________________________________________\n"
     ]
    }
   ],
   "source": [
    "model = Model(inputs=inp, outputs=sca_transf)\n",
    "model.summary()"
   ]
  },
  {
   "cell_type": "code",
   "execution_count": 5,
   "metadata": {
    "collapsed": false,
    "deletable": true,
    "editable": true
   },
   "outputs": [
    {
     "name": "stderr",
     "output_type": "stream",
     "text": [
      "W1009 13:52:18.128229 4640142784 deprecation_wrapper.py:119] From /Users/bhall/.edm/envs/blusky/lib/python3.6/site-packages/keras/backend/tensorflow_backend.py:2741: The name tf.Session is deprecated. Please use tf.compat.v1.Session instead.\n",
      "\n",
      "W1009 13:52:18.132870 4640142784 deprecation_wrapper.py:119] From /Users/bhall/.edm/envs/blusky/lib/python3.6/site-packages/keras/backend/tensorflow_backend.py:174: The name tf.get_default_session is deprecated. Please use tf.compat.v1.get_default_session instead.\n",
      "\n",
      "W1009 13:52:18.134224 4640142784 deprecation_wrapper.py:119] From /Users/bhall/.edm/envs/blusky/lib/python3.6/site-packages/keras/backend/tensorflow_backend.py:181: The name tf.ConfigProto is deprecated. Please use tf.compat.v1.ConfigProto instead.\n",
      "\n"
     ]
    }
   ],
   "source": [
    "result = model.predict(np.expand_dims(img, axis=0))"
   ]
  },
  {
   "cell_type": "markdown",
   "metadata": {
    "collapsed": false,
    "deletable": true,
    "editable": true
   },
   "source": [
    "The first result is $\\left|x * \\psi_{\\lambda_1}\\right|*\\phi$.  Compute this manually."
   ]
  },
  {
   "cell_type": "code",
   "execution_count": 26,
   "metadata": {
    "collapsed": false,
    "deletable": true,
    "editable": true
   },
   "outputs": [],
   "source": [
    "# extract the kernels of each of the wavelets for manual convolution\n",
    "# we'll test using three different angles that we used to create the\n",
    "# transform above.\n",
    "wav1 = wavelets[0]\n",
    "wav2 = wavelets[1]\n",
    "wav3 = wavelets[2]\n",
    "\n",
    "# extract the kernels of each of the wavelets for manual convolution\n",
    "# we'll test using three different angles that we used to create the\n",
    "# transform above.\n",
    "wav1_k = wav1.kernel(0.0)\n",
    "wav2_k = wav2.kernel(45.0)\n",
    "wav3_k = wav3.kernel(90.0)\n",
    "\n",
    "phi = father_wavelet.kernel(0.)\n",
    "\n",
    "\n",
    "img_pad = np.pad(img, ((16,16), (16,16), (0,0)), mode='reflect')\n",
    "# get numpy array of the test input image\n",
    "x = img_pad[:,:,0]\n",
    "\n",
    "# manual convolution, |x * psi_1|\n",
    "conv = np.abs(convolve2d(x, wav1_k, mode=\"same\"))\n",
    "\n",
    "\n",
    "conv2 = np.abs(convolve2d(conv, wav2_k, mode=\"same\"))\n",
    "\n",
    "conv3 = np.abs(convolve2d(conv2, wav3_k, mode=\"same\"))\n"
   ]
  },
  {
   "cell_type": "code",
   "execution_count": 27,
   "metadata": {
    "collapsed": false
   },
   "outputs": [
    {
     "name": "stdout",
     "output_type": "stream",
     "text": [
      "manual result 1: 84.78744319603979\n",
      "manual result 2: 12.140577175061448\n",
      "manual result 3: 1.3845558275244014\n"
     ]
    }
   ],
   "source": [
    "manual_result1 = convolve2d(conv[16:-16, 16:-16], phi.real, mode=\"valid\")[0,0]\n",
    "manual_result2 = convolve2d(conv2[16:-16, 16:-16], phi.real, mode=\"valid\")[0,0]\n",
    "manual_result3 = convolve2d(conv3[16:-16, 16:-16], phi.real, mode=\"valid\")[0,0]\n",
    "\n",
    "print('manual result 1: {}'.format(manual_result1))\n",
    "print('manual result 2: {}'.format(manual_result2))\n",
    "print('manual result 3: {}'.format(manual_result3))"
   ]
  },
  {
   "cell_type": "markdown",
   "metadata": {},
   "source": [
    "find this in the output.  it should be something like xpsi3unpaddedphi"
   ]
  },
  {
   "cell_type": "code",
   "execution_count": 28,
   "metadata": {
    "collapsed": false
   },
   "outputs": [
    {
     "data": {
      "text/plain": [
       "86.09375"
      ]
     },
     "execution_count": 28,
     "metadata": {},
     "output_type": "execute_result"
    }
   ],
   "source": [
    "cnn_result1 = result[0][0,0,0,0]\n",
    "cnn_result1"
   ]
  },
  {
   "cell_type": "code",
   "execution_count": 30,
   "metadata": {
    "collapsed": false
   },
   "outputs": [
    {
     "data": {
      "text/plain": [
       "12.226252"
      ]
     },
     "execution_count": 30,
     "metadata": {},
     "output_type": "execute_result"
    }
   ],
   "source": [
    "cnn_result2 = result[3][0,0,0,1]\n",
    "cnn_result2"
   ]
  },
  {
   "cell_type": "code",
   "execution_count": 29,
   "metadata": {
    "collapsed": false
   },
   "outputs": [
    {
     "data": {
      "text/plain": [
       "1.3982526"
      ]
     },
     "execution_count": 29,
     "metadata": {},
     "output_type": "execute_result"
    }
   ],
   "source": [
    "cnn_result3 = result[6][0,0,0,5]\n",
    "cnn_result3"
   ]
  },
  {
   "cell_type": "code",
   "execution_count": 17,
   "metadata": {
    "collapsed": false
   },
   "outputs": [
    {
     "data": {
      "text/plain": [
       "[array([[[[ 86.09375, 141.99812, 673.1921 ]]]], dtype=float32),\n",
       " array([[[[ 43.508118,  91.91322 , 488.20453 ]]]], dtype=float32),\n",
       " array([[[[ 24.942146,  63.18323 , 445.87457 ]]]], dtype=float32),\n",
       " array([[[[  9.459414,  12.226252,  10.914241,  11.449362,  15.020585,\n",
       "            18.954191,  16.832403,  36.586838, 100.179825]]]],\n",
       "       dtype=float32),\n",
       " array([[[[  5.7497225,  12.36543  ,  12.172748 ,   8.588438 ,\n",
       "            12.484282 ,  21.519789 ,  15.416336 ,  49.274372 ,\n",
       "           115.93939  ]]]], dtype=float32),\n",
       " array([[[[  4.8478727,   4.557818 ,   4.97699  ,   9.299008 ,\n",
       "             6.3051643,  10.920145 ,   8.978993 ,  20.972616 ,\n",
       "           105.831604 ]]]], dtype=float32),\n",
       " array([[[[ 1.615682  ,  1.2423929 ,  0.96118116,  1.5900751 ,\n",
       "            2.0602398 ,  1.3982526 ,  0.5933875 ,  0.97910297,\n",
       "            1.270066  ,  1.601808  ,  0.78247935,  1.2253474 ,\n",
       "            1.1028441 ,  1.5106843 ,  1.6233064 ,  0.6842292 ,\n",
       "            0.88154525,  2.2993293 ,  2.2082953 ,  1.7117594 ,\n",
       "            2.3381476 ,  2.4411623 ,  4.1640024 ,  5.9857845 ,\n",
       "            4.3293386 , 10.956054  , 20.030508  ]]]], dtype=float32)]"
      ]
     },
     "execution_count": 17,
     "metadata": {},
     "output_type": "execute_result"
    }
   ],
   "source": [
    "result"
   ]
  },
  {
   "cell_type": "code",
   "execution_count": null,
   "metadata": {
    "collapsed": true
   },
   "outputs": [],
   "source": []
  }
 ],
 "metadata": {
  "kernelspec": {
   "display_name": "blusky",
   "language": "python",
   "name": "blusky"
  },
  "language_info": {
   "codemirror_mode": {
    "name": "ipython",
    "version": 3
   },
   "file_extension": ".py",
   "mimetype": "text/x-python",
   "name": "python",
   "nbconvert_exporter": "python",
   "pygments_lexer": "ipython3",
   "version": "3.6.5"
  }
 },
 "nbformat": 4,
 "nbformat_minor": 2
}

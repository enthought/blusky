{
 "cells": [
  {
   "cell_type": "code",
   "execution_count": 1,
   "metadata": {
    "collapsed": false,
    "deletable": true,
    "editable": true
   },
   "outputs": [
    {
     "name": "stderr",
     "output_type": "stream",
     "text": [
      "Using TensorFlow backend.\n"
     ]
    }
   ],
   "source": [
    "import re\n",
    "\n",
    "import keras.backend as keras_backend\n",
    "from keras.layers import Conv1D, Lambda, Add\n",
    "import numpy as np\n",
    "\n",
    "from traits.api import Enum, HasStrictTraits, Int, Instance, List, Tuple\n",
    "\n",
    "from blusky.transforms.apply_father_wavelet_1d import ApplyFatherWavlet1D\n",
    "from blusky.transforms.cascade_tree import CascadeTree\n",
    "from blusky.transforms.cascade_1d import Cascade1D\n",
    "\n",
    "from blusky.transforms.default_decimation import (NoDecimation, \n",
    "                                                  DefaultDecimation)\n",
    "from blusky.transforms.i_decimation_method import IDecimationMethod\n",
    "from blusky.wavelets.i_wavelet_1d import IWavelet1D\n",
    "from blusky.utils.pad_1d import pad_to_log2, Pad1D"
   ]
  },
  {
   "cell_type": "code",
   "execution_count": 2,
   "metadata": {
    "collapsed": false
   },
   "outputs": [
    {
     "data": {
      "text/plain": [
       "[<matplotlib.lines.Line2D at 0x12d0cba58>]"
      ]
     },
     "execution_count": 2,
     "metadata": {},
     "output_type": "execute_result"
    }
   ],
   "source": [
    "import matplotlib.pylab as plt\n",
    "from scipy.io import loadmat\n",
    "x = loadmat(\"x.mat\")\n",
    "x = x['x']\n",
    "plt.plot(x[:,0])"
   ]
  },
  {
   "cell_type": "code",
   "execution_count": 28,
   "metadata": {
    "collapsed": false,
    "deletable": true,
    "editable": true
   },
   "outputs": [
    {
     "name": "stdout",
     "output_type": "stream",
     "text": [
      "[0.02514723 0.01218016 0.00572137 0.00262647 0.00100701 0.00021725\n",
      " 0.00025159]\n"
     ]
    }
   ],
   "source": [
    "from blusky.wavelets.wavelet_factories_1d import (vanilla_gabor_1d, \n",
    "                                                  vanilla_morlet_1d)\n",
    "from keras.layers import Input\n",
    "from keras import Model\n",
    "\n",
    "N = 512\n",
    "order = 1\n",
    "sample_rate = 0.001\n",
    "\n",
    "J = int(np.log2(N) - 2)\n",
    "\n",
    "wavelets = [vanilla_morlet_1d(sample_rate, j=i) \n",
    "                    for i in range(0,J)]\n",
    "father_wavelet = vanilla_gabor_1d(sample_rate, j=J-1)\n",
    "\n",
    "deci = DefaultDecimation(oversampling=1)\n",
    "inp = Input(shape=(N,1))\n",
    "\n",
    "# pad\n",
    "pad_1d = Pad1D(wavelets, decimation=deci)\n",
    "padded = pad_1d.pad(inp)\n",
    "\n",
    "#\n",
    "cascade_tree = CascadeTree(padded, order=order)\n",
    "cascade = Cascade1D(decimation=deci)\n",
    "convs = cascade.transform(cascade_tree, wavelets=wavelets)\n",
    "\n",
    "# Create layers to remove padding\n",
    "cascade_tree = CascadeTree(padded, order=order)\n",
    "cascade_tree.generate(wavelets, pad_1d._unpad_same)\n",
    "unpad = cascade_tree.get_convolutions()\n",
    "\n",
    "# Remove the padding\n",
    "unpadded_convs = [i[1](i[0]) for i in zip(convs, unpad)]\n",
    "\n",
    "appl = ApplyFatherWavlet1D(wavelet=father_wavelet, \n",
    "                           J=J-1, img_size=(N,), sample_rate=sample_rate)\n",
    "\n",
    "sca_transf = appl.convolve(unpadded_convs)\n",
    "\n",
    "model = Model(inputs=inp, outputs=sca_transf)\n",
    "#model.summary()\n",
    "\n",
    "data = np.zeros((1,N,1))\n",
    "data[0,:,0] = x[:,0]\n",
    "result = model.predict(data)\n",
    "print(np.squeeze(np.array(result)))"
   ]
  },
  {
   "cell_type": "code",
   "execution_count": null,
   "metadata": {
    "collapsed": true
   },
   "outputs": [],
   "source": []
  }
 ],
 "metadata": {
  "kernelspec": {
   "display_name": "Python 3",
   "language": "python",
   "name": "python3"
  },
  "language_info": {
   "codemirror_mode": {
    "name": "ipython",
    "version": 3
   },
   "file_extension": ".py",
   "mimetype": "text/x-python",
   "name": "python",
   "nbconvert_exporter": "python",
   "pygments_lexer": "ipython3",
   "version": "3.6.5"
  }
 },
 "nbformat": 4,
 "nbformat_minor": 2
}

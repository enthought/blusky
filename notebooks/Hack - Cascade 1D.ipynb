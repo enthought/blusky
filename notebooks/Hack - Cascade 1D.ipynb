{
 "cells": [
  {
   "cell_type": "code",
   "execution_count": 9,
   "metadata": {
    "collapsed": false,
    "deletable": true,
    "editable": true
   },
   "outputs": [],
   "source": [
    "import re\n",
    "\n",
    "import keras.backend as keras_backend\n",
    "from keras.layers import Conv1D, Lambda, Add\n",
    "import numpy as np\n",
    "import matplotlib.pylab as plt\n",
    "\n",
    "from traits.api import Enum, HasStrictTraits, Int, Instance, List, Tuple\n",
    "\n",
    "from blusky.transforms.apply_father_wavelet_1d import ApplyFatherWavlet1D\n",
    "from blusky.transforms.cascade_tree import CascadeTree\n",
    "from blusky.transforms.cascade_1d import Cascade1D\n",
    "\n",
    "from blusky.transforms.default_decimation import (NoDecimation, \n",
    "                                                  DefaultDecimation)\n",
    "from blusky.transforms.i_decimation_method import IDecimationMethod\n",
    "from blusky.wavelets.i_wavelet_1d import IWavelet1D\n",
    "from blusky.utils.pad_1d import pad_to_log2, Pad1D"
   ]
  },
  {
   "cell_type": "code",
   "execution_count": 10,
   "metadata": {
    "collapsed": false,
    "deletable": true,
    "editable": true
   },
   "outputs": [],
   "source": [
    "from os import path\n",
    "import blusky.datasets as datasets\n",
    "\n",
    "ts_path = path.join(\n",
    "    path.dirname(datasets.__file__), \"timeseries.csv\"\n",
    ")\n",
    "my_data = np.genfromtxt(ts_path, delimiter=',', skip_header=1)\n",
    "ts = my_data[:,1]"
   ]
  },
  {
   "cell_type": "code",
   "execution_count": 11,
   "metadata": {
    "collapsed": false,
    "deletable": true,
    "editable": true
   },
   "outputs": [
    {
     "data": {
      "text/plain": [
       "252"
      ]
     },
     "execution_count": 11,
     "metadata": {},
     "output_type": "execute_result"
    }
   ],
   "source": [
    "len(ts)"
   ]
  },
  {
   "cell_type": "code",
   "execution_count": 12,
   "metadata": {
    "collapsed": false,
    "deletable": true,
    "editable": true
   },
   "outputs": [
    {
     "data": {
      "image/png": "[encoded data removed]",
      "text/plain": [
       "<Figure size 432x288 with 1 Axes>"
      ]
     },
     "metadata": {
      "needs_background": "light"
     },
     "output_type": "display_data"
    }
   ],
   "source": [
    "plt.figure()\n",
    "plt.plot(ts)\n",
    "plt.show()"
   ]
  },
  {
   "cell_type": "code",
   "execution_count": 26,
   "metadata": {
    "collapsed": false,
    "deletable": true,
    "editable": true
   },
   "outputs": [
    {
     "name": "stdout",
     "output_type": "stream",
     "text": [
      "[6.3973746 4.479191  2.7176552 1.7101843 1.6996995]\n"
     ]
    }
   ],
   "source": [
    "from blusky.wavelets.wavelet_factories_1d import (vanilla_gabor_1d, \n",
    "                                                  vanilla_morlet_1d)\n",
    "from keras.layers import Input\n",
    "from keras import Model\n",
    "\n",
    "N = 128\n",
    "order = 1\n",
    "sample_rate = 0.001\n",
    "\n",
    "J = int(np.log2(N) - 2)\n",
    "\n",
    "wavelets = [vanilla_morlet_1d(sample_rate, j=i) \n",
    "                    for i in range(0,J)]\n",
    "father_wavelet = vanilla_gabor_1d(sample_rate, j=J-1)\n",
    "\n",
    "deci = DefaultDecimation(oversampling=1)\n",
    "inp = Input(shape=(N,1))\n",
    "\n",
    "# pad\n",
    "pad_1d = Pad1D(wavelets, decimation=deci)\n",
    "padded = pad_1d.pad(inp)\n",
    "\n",
    "#\n",
    "cascade_tree = CascadeTree(padded, order=order)\n",
    "cascade = Cascade1D(decimation=deci)\n",
    "convs = cascade.transform(cascade_tree, wavelets=wavelets)\n",
    "\n",
    "# Create layers to remove padding\n",
    "cascade_tree = CascadeTree(padded, order=order)\n",
    "cascade_tree.generate(wavelets, pad_1d._unpad_same)\n",
    "unpad = cascade_tree.get_convolutions()\n",
    "\n",
    "# Remove the padding\n",
    "unpadded_convs = [i[1](i[0]) for i in zip(convs, unpad)]\n",
    "\n",
    "appl = ApplyFatherWavlet1D(wavelet=father_wavelet, \n",
    "                           J=J-1, img_size=(N,), sample_rate=sample_rate)\n",
    "\n",
    "sca_transf = appl.convolve(unpadded_convs)\n",
    "\n",
    "model = Model(inputs=inp, outputs=sca_transf)\n",
    "#model.summary()\n",
    "\n",
    "data = np.zeros((1,N,1))\n",
    "data[0,:,0] = ts[124:]\n",
    "result = model.predict(data)\n",
    "print(np.squeeze(np.array(result)))"
   ]
  },
  {
   "cell_type": "code",
   "execution_count": 27,
   "metadata": {
    "collapsed": false,
    "deletable": true,
    "editable": true
   },
   "outputs": [
    {
     "data": {
      "text/plain": [
       "128"
      ]
     },
     "execution_count": 27,
     "metadata": {},
     "output_type": "execute_result"
    }
   ],
   "source": [
    "len(ts[124:])"
   ]
  },
  {
   "cell_type": "code",
   "execution_count": null,
   "metadata": {
    "collapsed": true,
    "deletable": true,
    "editable": true
   },
   "outputs": [],
   "source": []
  }
 ],
 "metadata": {
  "kernelspec": {
   "display_name": "Python 3",
   "language": "python",
   "name": "python3"
  },
  "language_info": {
   "codemirror_mode": {
    "name": "ipython",
    "version": 3
   },
   "file_extension": ".py",
   "mimetype": "text/x-python",
   "name": "python",
   "nbconvert_exporter": "python",
   "pygments_lexer": "ipython3",
   "version": "3.6.0"
  }
 },
 "nbformat": 4,
 "nbformat_minor": 2
}

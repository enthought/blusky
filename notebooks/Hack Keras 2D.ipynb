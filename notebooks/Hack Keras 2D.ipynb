{
 "cells": [
  {
   "cell_type": "code",
   "execution_count": 4,
   "metadata": {
    "collapsed": false,
    "deletable": true,
    "editable": true
   },
   "outputs": [],
   "source": [
    "from h5py import File as H5File\n",
    "from PIL import Image\n",
    "from keras.layers import Input\n",
    "from keras.models import Model, Sequential\n",
    "import matplotlib.pylab as plt\n",
    "import numpy as np\n",
    "from skimage.exposure import equalize_hist\n",
    "\n",
    "import blusky.datasets as datasets\n",
    "from blusky.transforms.cascade2d import Cascade2D\n",
    "from blusky.wavelets.i_wavelet_2d import IWavelet2D\n",
    "from blusky.wavelets.morlet2d import Morlet2D"
   ]
  },
  {
   "cell_type": "code",
   "execution_count": 5,
   "metadata": {
    "collapsed": false,
    "deletable": true,
    "editable": true,
    "scrolled": false
   },
   "outputs": [
    {
     "name": "stdout",
     "output_type": "stream",
     "text": [
      "__________________________________________________________________________________________________\n",
      "Layer (type)                    Output Shape         Param #     Connected to                     \n",
      "==================================================================================================\n",
      "input_2 (InputLayer)            (None, 99, 99, 1)    0                                            \n",
      "__________________________________________________________________________________________________\n",
      "depthwise_conv2d_19 (DepthwiseC (None, 87, 87, 3)    510         input_2[0][0]                    \n",
      "__________________________________________________________________________________________________\n",
      "depthwise_conv2d_20 (DepthwiseC (None, 87, 87, 3)    510         input_2[0][0]                    \n",
      "__________________________________________________________________________________________________\n",
      "depthwise_conv2d_21 (DepthwiseC (None, 83, 83, 3)    870         input_2[0][0]                    \n",
      "__________________________________________________________________________________________________\n",
      "depthwise_conv2d_22 (DepthwiseC (None, 83, 83, 3)    870         input_2[0][0]                    \n",
      "__________________________________________________________________________________________________\n",
      "depthwise_conv2d_23 (DepthwiseC (None, 67, 67, 3)    3270        input_2[0][0]                    \n",
      "__________________________________________________________________________________________________\n",
      "depthwise_conv2d_24 (DepthwiseC (None, 67, 67, 3)    3270        input_2[0][0]                    \n",
      "__________________________________________________________________________________________________\n",
      "lambda_10 (Lambda)              (None, 87, 87, 3)    0           depthwise_conv2d_19[0][0]        \n",
      "                                                                 depthwise_conv2d_20[0][0]        \n",
      "__________________________________________________________________________________________________\n",
      "lambda_11 (Lambda)              (None, 83, 83, 3)    0           depthwise_conv2d_21[0][0]        \n",
      "                                                                 depthwise_conv2d_22[0][0]        \n",
      "__________________________________________________________________________________________________\n",
      "lambda_12 (Lambda)              (None, 67, 67, 3)    0           depthwise_conv2d_23[0][0]        \n",
      "                                                                 depthwise_conv2d_24[0][0]        \n",
      "__________________________________________________________________________________________________\n",
      "add_10 (Add)                    (None, 87, 87, 3)    0           lambda_10[0][0]                  \n",
      "                                                                 lambda_10[1][0]                  \n",
      "__________________________________________________________________________________________________\n",
      "add_11 (Add)                    (None, 83, 83, 3)    0           lambda_11[0][0]                  \n",
      "                                                                 lambda_11[1][0]                  \n",
      "__________________________________________________________________________________________________\n",
      "add_12 (Add)                    (None, 67, 67, 3)    0           lambda_12[0][0]                  \n",
      "                                                                 lambda_12[1][0]                  \n",
      "__________________________________________________________________________________________________\n",
      "endpoint-0/1 (Lambda)           (None, 87, 87, 3)    0           add_10[0][0]                     \n",
      "__________________________________________________________________________________________________\n",
      "endpoint-1/1 (Lambda)           (None, 83, 83, 3)    0           add_11[0][0]                     \n",
      "__________________________________________________________________________________________________\n",
      "endpoint-2/1 (Lambda)           (None, 67, 67, 3)    0           add_12[0][0]                     \n",
      "__________________________________________________________________________________________________\n",
      "depthwise_conv2d_25 (DepthwiseC (None, 71, 71, 9)    2610        endpoint-0/1[0][0]               \n",
      "__________________________________________________________________________________________________\n",
      "depthwise_conv2d_26 (DepthwiseC (None, 71, 71, 9)    2610        endpoint-0/1[0][0]               \n",
      "__________________________________________________________________________________________________\n",
      "depthwise_conv2d_27 (DepthwiseC (None, 55, 55, 9)    9810        endpoint-0/1[0][0]               \n",
      "__________________________________________________________________________________________________\n",
      "depthwise_conv2d_28 (DepthwiseC (None, 55, 55, 9)    9810        endpoint-0/1[0][0]               \n",
      "__________________________________________________________________________________________________\n",
      "depthwise_conv2d_29 (DepthwiseC (None, 67, 67, 9)    2610        endpoint-1/1[0][0]               \n",
      "__________________________________________________________________________________________________\n",
      "depthwise_conv2d_30 (DepthwiseC (None, 67, 67, 9)    2610        endpoint-1/1[0][0]               \n",
      "__________________________________________________________________________________________________\n",
      "depthwise_conv2d_31 (DepthwiseC (None, 51, 51, 9)    9810        endpoint-1/1[0][0]               \n",
      "__________________________________________________________________________________________________\n",
      "depthwise_conv2d_32 (DepthwiseC (None, 51, 51, 9)    9810        endpoint-1/1[0][0]               \n",
      "__________________________________________________________________________________________________\n",
      "depthwise_conv2d_33 (DepthwiseC (None, 51, 51, 9)    2610        endpoint-2/1[0][0]               \n",
      "__________________________________________________________________________________________________\n",
      "depthwise_conv2d_34 (DepthwiseC (None, 51, 51, 9)    2610        endpoint-2/1[0][0]               \n",
      "__________________________________________________________________________________________________\n",
      "depthwise_conv2d_35 (DepthwiseC (None, 35, 35, 9)    9810        endpoint-2/1[0][0]               \n",
      "__________________________________________________________________________________________________\n",
      "depthwise_conv2d_36 (DepthwiseC (None, 35, 35, 9)    9810        endpoint-2/1[0][0]               \n",
      "__________________________________________________________________________________________________\n",
      "lambda_13 (Lambda)              (None, 71, 71, 9)    0           depthwise_conv2d_25[0][0]        \n",
      "                                                                 depthwise_conv2d_26[0][0]        \n",
      "__________________________________________________________________________________________________\n",
      "lambda_14 (Lambda)              (None, 55, 55, 9)    0           depthwise_conv2d_27[0][0]        \n",
      "                                                                 depthwise_conv2d_28[0][0]        \n",
      "__________________________________________________________________________________________________\n",
      "lambda_15 (Lambda)              (None, 67, 67, 9)    0           depthwise_conv2d_29[0][0]        \n",
      "                                                                 depthwise_conv2d_30[0][0]        \n",
      "__________________________________________________________________________________________________\n",
      "lambda_16 (Lambda)              (None, 51, 51, 9)    0           depthwise_conv2d_31[0][0]        \n",
      "                                                                 depthwise_conv2d_32[0][0]        \n",
      "__________________________________________________________________________________________________\n",
      "lambda_17 (Lambda)              (None, 51, 51, 9)    0           depthwise_conv2d_33[0][0]        \n",
      "                                                                 depthwise_conv2d_34[0][0]        \n",
      "__________________________________________________________________________________________________\n",
      "lambda_18 (Lambda)              (None, 35, 35, 9)    0           depthwise_conv2d_35[0][0]        \n",
      "                                                                 depthwise_conv2d_36[0][0]        \n",
      "__________________________________________________________________________________________________\n",
      "add_13 (Add)                    (None, 71, 71, 9)    0           lambda_13[0][0]                  \n",
      "                                                                 lambda_13[1][0]                  \n",
      "__________________________________________________________________________________________________\n",
      "add_14 (Add)                    (None, 55, 55, 9)    0           lambda_14[0][0]                  \n",
      "                                                                 lambda_14[1][0]                  \n",
      "__________________________________________________________________________________________________\n",
      "add_15 (Add)                    (None, 67, 67, 9)    0           lambda_15[0][0]                  \n",
      "                                                                 lambda_15[1][0]                  \n",
      "__________________________________________________________________________________________________\n",
      "add_16 (Add)                    (None, 51, 51, 9)    0           lambda_16[0][0]                  \n",
      "                                                                 lambda_16[1][0]                  \n",
      "__________________________________________________________________________________________________\n",
      "add_17 (Add)                    (None, 51, 51, 9)    0           lambda_17[0][0]                  \n",
      "                                                                 lambda_17[1][0]                  \n",
      "__________________________________________________________________________________________________\n",
      "add_18 (Add)                    (None, 35, 35, 9)    0           lambda_18[0][0]                  \n",
      "                                                                 lambda_18[1][0]                  \n",
      "__________________________________________________________________________________________________\n",
      "endpoint-3/2 (Lambda)           (None, 71, 71, 9)    0           add_13[0][0]                     \n",
      "__________________________________________________________________________________________________\n",
      "endpoint-4/2 (Lambda)           (None, 55, 55, 9)    0           add_14[0][0]                     \n",
      "__________________________________________________________________________________________________\n",
      "endpoint-5/2 (Lambda)           (None, 67, 67, 9)    0           add_15[0][0]                     \n",
      "__________________________________________________________________________________________________\n",
      "endpoint-6/2 (Lambda)           (None, 51, 51, 9)    0           add_16[0][0]                     \n",
      "__________________________________________________________________________________________________\n",
      "endpoint-7/2 (Lambda)           (None, 51, 51, 9)    0           add_17[0][0]                     \n",
      "__________________________________________________________________________________________________\n",
      "endpoint-8/2 (Lambda)           (None, 35, 35, 9)    0           add_18[0][0]                     \n",
      "==================================================================================================\n",
      "Total params: 83,820\n",
      "Trainable params: 0\n",
      "Non-trainable params: 83,820\n",
      "__________________________________________________________________________________________________\n"
     ]
    }
   ],
   "source": [
    "wav1 = Morlet2D(sample_rate=0.004, \n",
    "               center_frequency=90., \n",
    "               bandwidth=(50.,25.), \n",
    "               crop=3.5,\n",
    "               taper=False)\n",
    "\n",
    "wav2 = Morlet2D(sample_rate=0.004, \n",
    "               center_frequency=45., \n",
    "               bandwidth=(40.,20), \n",
    "               crop=3.5,\n",
    "               taper=False)\n",
    "\n",
    "wav3 = Morlet2D(sample_rate=0.004, \n",
    "               center_frequency=22.5, \n",
    "               bandwidth=(20,10.), \n",
    "               crop=3.5,\n",
    "               taper=False)\n",
    "\n",
    "inp = Input(shape=(99,99,1))\n",
    "cascade = Cascade2D(\"none\", 0, angles=(0.0, 45., 90.), wavelets=[wav1, wav2, wav3])\n",
    "\n",
    "# create the transform\n",
    "result = cascade.transform(inp)\n",
    "\n",
    "model = Model(inputs=inp, outputs=result)\n",
    "model.summary()"
   ]
  },
  {
   "cell_type": "code",
   "execution_count": 6,
   "metadata": {
    "collapsed": false
   },
   "outputs": [],
   "source": [
    "from os import path\n",
    "\n",
    "imgs = []\n",
    "for label in ['chaotic', 'fault', 'salt', 'horizon']:\n",
    "    for im in range(0,3):\n",
    "        data = path.join(\n",
    "            path.join(path.dirname(datasets.__file__), \"test_tiles\"), \"{}{}.png\".format(label, im)\n",
    "        )\n",
    "        data = np.array(Image.open(data)).astype(np.float32)\n",
    "        data /= np.max(data)\n",
    "        \n",
    "        imgs.append(data)\n",
    "imgs = np.array(imgs)\n",
    "imgs.shape = list(imgs.shape) + [1]"
   ]
  },
  {
   "cell_type": "code",
   "execution_count": 7,
   "metadata": {
    "collapsed": false
   },
   "outputs": [
    {
     "name": "stderr",
     "output_type": "stream",
     "text": [
      "W0715 21:47:43.316866 4321104768 deprecation_wrapper.py:119] From /Users/blasscock/.edm/envs/blusky/lib/python3.6/site-packages/keras/backend/tensorflow_backend.py:2741: The name tf.Session is deprecated. Please use tf.compat.v1.Session instead.\n",
      "\n",
      "W0715 21:47:43.319845 4321104768 deprecation_wrapper.py:119] From /Users/blasscock/.edm/envs/blusky/lib/python3.6/site-packages/keras/backend/tensorflow_backend.py:174: The name tf.get_default_session is deprecated. Please use tf.compat.v1.get_default_session instead.\n",
      "\n",
      "W0715 21:47:43.320569 4321104768 deprecation_wrapper.py:119] From /Users/blasscock/.edm/envs/blusky/lib/python3.6/site-packages/keras/backend/tensorflow_backend.py:181: The name tf.ConfigProto is deprecated. Please use tf.compat.v1.ConfigProto instead.\n",
      "\n"
     ]
    }
   ],
   "source": [
    "result = model.predict(imgs)"
   ]
  },
  {
   "cell_type": "code",
   "execution_count": 12,
   "metadata": {
    "collapsed": false
   },
   "outputs": [
    {
     "data": {
      "image/png": "[encoded data removed]",
      "text/plain": [
       "<Figure size 432x288 with 1 Axes>"
      ]
     },
     "metadata": {},
     "output_type": "display_data"
    }
   ],
   "source": [
    "plt.figure()\n",
    "plt.imshow(result[-1][0,:,:,2])\n",
    "plt.show()"
   ]
  },
  {
   "cell_type": "code",
   "execution_count": null,
   "metadata": {
    "collapsed": true
   },
   "outputs": [],
   "source": []
  }
 ],
 "metadata": {
  "kernelspec": {
   "display_name": "Python 3",
   "language": "python",
   "name": "python3"
  },
  "language_info": {
   "codemirror_mode": {
    "name": "ipython",
    "version": 3
   },
   "file_extension": ".py",
   "mimetype": "text/x-python",
   "name": "python",
   "nbconvert_exporter": "python",
   "pygments_lexer": "ipython3",
   "version": "3.6.0"
  }
 },
 "nbformat": 4,
 "nbformat_minor": 2
}

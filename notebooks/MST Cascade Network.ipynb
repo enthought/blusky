{
 "cells": [
  {
   "cell_type": "code",
   "execution_count": 31,
   "metadata": {
    "collapsed": true,
    "deletable": true,
    "editable": true
   },
   "outputs": [],
   "source": [
    "%matplotlib inline\n",
    "import matplotlib.pyplot as plt\n",
    "import numpy as np"
   ]
  },
  {
   "cell_type": "markdown",
   "metadata": {},
   "source": [
    "The scattering transform has a tree-like architecture.  The CascadeTree object defines below creates the framework of the transform, keeping track of the recipe for the convolutions and scale for each."
   ]
  },
  {
   "cell_type": "code",
   "execution_count": 32,
   "metadata": {
    "collapsed": false
   },
   "outputs": [],
   "source": [
    "# The nodes of the cascade tree keep track of the recipe of the convolution\n",
    "# (name in this case) and the scale\n",
    "class Node:\n",
    "    def __init__(self, name, scale, parent=None):\n",
    "        self.name = name\n",
    "        self.scale = scale\n",
    "        self.parent = parent\n",
    "        self.children = []\n",
    "\n",
    "    def __str__(self):\n",
    "        return \"( %s, %d )\"%(self.name, self.scale)\n",
    "\n",
    "class CascadeTree:\n",
    "    def __init__(self, order):\n",
    "        self.order = order\n",
    "        self.root_node = None\n",
    "    \n",
    "    def generate(self, wavelet_bank, input_name):\n",
    "        self.root_node = Node(name=input_name, scale=0)\n",
    "        current_layer = [self.root_node]\n",
    "        for stage in np.arange(self.order+1):\n",
    "            next_layer = []\n",
    "            for current_node in current_layer:\n",
    "                for i, wv in enumerate(wavelet_bank):\n",
    "                    scale = i + 1\n",
    "                    if scale > current_node.scale:\n",
    "                        new_name = \"|%s*psi_%d|\"%(current_node.name, scale)\n",
    "                        new_node = Node(name=new_name, scale=scale, parent=current_node)\n",
    "                        current_node.children.append(new_node)\n",
    "                        next_layer.append(new_node)\n",
    "            current_layer = next_layer\n",
    "        \n",
    "    # layer by layer output    \n",
    "    def display(self):\n",
    "        current_layer = [self.root_node]\n",
    "        \n",
    "        for stage in np.arange(self.order+1):\n",
    "            next_layer = []\n",
    "            print(\"Layer %d\"%stage)\n",
    "            for current_node in current_layer:\n",
    "                \n",
    "                print(current_node)\n",
    "                next_layer += current_node.children\n",
    "            current_layer = next_layer\n",
    "      \n",
    "            \n",
    "    def get_convolutions(self):\n",
    "        current_layer = [self.root_node]\n",
    "        all_convolutions = []\n",
    "        \n",
    "        #starting at the first layer, don't need the root node (input)\n",
    "        for stage in np.arange(1, self.order+1):\n",
    "            next_layer = []\n",
    "            for current_node in current_layer:\n",
    "                next_layer += current_node.children\n",
    "            current_layer = next_layer\n",
    "            all_convolutions += current_layer\n",
    "        return all_convolutions\n",
    "        \n",
    "# need a method to return a list of all (non root) nodes"
   ]
  },
  {
   "cell_type": "markdown",
   "metadata": {},
   "source": [
    "Test this out.  Create a wavelet bank with three wavelets. This object assumes that the wavelets are ordered in increasing scale (powers of 2)."
   ]
  },
  {
   "cell_type": "code",
   "execution_count": 35,
   "metadata": {
    "collapsed": false
   },
   "outputs": [
    {
     "name": "stdout",
     "output_type": "stream",
     "text": [
      "Layer 0\n",
      "( x, 0 )\n",
      "Layer 1\n",
      "( |x*psi_1|, 1 )\n",
      "( |x*psi_2|, 2 )\n",
      "( |x*psi_3|, 3 )\n",
      "Layer 2\n",
      "( ||x*psi_1|*psi_2|, 2 )\n",
      "( ||x*psi_1|*psi_3|, 3 )\n",
      "( ||x*psi_2|*psi_3|, 3 )\n"
     ]
    }
   ],
   "source": [
    "wavelet_bank = ['psi_1', 'psi_2', 'psi_3']\n",
    "\n",
    "cascade = CascadeTree(order = 2)\n",
    "\n",
    "cascade.generate(wavelet_bank, input_name = 'x')\n",
    "\n",
    "cascade.display()"
   ]
  },
  {
   "cell_type": "markdown",
   "metadata": {},
   "source": [
    "The `get_convolutions()` function returns a list of all the convolutions in the cascade, in scale order."
   ]
  },
  {
   "cell_type": "code",
   "execution_count": 36,
   "metadata": {
    "collapsed": false
   },
   "outputs": [
    {
     "name": "stdout",
     "output_type": "stream",
     "text": [
      "( |x*psi_1|, 1 )\n",
      "( |x*psi_2|, 2 )\n",
      "( |x*psi_3|, 3 )\n",
      "( ||x*psi_1|*psi_2|, 2 )\n",
      "( ||x*psi_1|*psi_3|, 3 )\n",
      "( ||x*psi_2|*psi_3|, 3 )\n"
     ]
    }
   ],
   "source": [
    "for conv in cascade.get_convolutions():\n",
    "    print(conv)"
   ]
  }
 ],
 "metadata": {
  "kernelspec": {
   "display_name": "data-disco",
   "language": "python",
   "name": "data-disco"
  },
  "language_info": {
   "codemirror_mode": {
    "name": "ipython",
    "version": 3
   },
   "file_extension": ".py",
   "mimetype": "text/x-python",
   "name": "python",
   "nbconvert_exporter": "python",
   "pygments_lexer": "ipython3",
   "version": "3.6.0"
  }
 },
 "nbformat": 4,
 "nbformat_minor": 2
}

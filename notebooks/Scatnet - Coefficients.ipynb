{
 "cells": [
  {
   "cell_type": "code",
   "execution_count": 1,
   "metadata": {
    "collapsed": false,
    "deletable": true,
    "editable": true
   },
   "outputs": [
    {
     "name": "stderr",
     "output_type": "stream",
     "text": [
      "Using TensorFlow backend.\n"
     ]
    }
   ],
   "source": [
    "import re\n",
    "from os.path import dirname, join\n",
    "\n",
    "import keras.backend as keras_backend\n",
    "from keras.layers import Conv1D, Lambda, Add\n",
    "import numpy as np\n",
    "import matplotlib.pylab as plt\n",
    "\n",
    "from traits.api import Enum, HasStrictTraits, Int, Instance, List, Tuple\n",
    "\n",
    "from blusky.transforms.apply_father_wavelet_1d import ApplyFatherWavlet1D\n",
    "from blusky.transforms.cascade_tree import CascadeTree\n",
    "from blusky.transforms.cascade_1d import Cascade1D\n",
    "import blusky.datasets as datasets\n",
    "from blusky.transforms.default_decimation import (NoDecimation, \n",
    "                                                  DefaultDecimation)\n",
    "from blusky.transforms.i_decimation_method import IDecimationMethod\n",
    "from blusky.wavelets.i_wavelet_1d import IWavelet1D\n",
    "from blusky.utils.pad_1d import pad_to_log2, Pad1D\n",
    "\n",
    "from blusky.wavelets.wavelet_factories_1d import (morlet_freq_1d,\n",
    "                                                  vanilla_gabor_1d, \n",
    "                                                  vanilla_morlet_1d)"
   ]
  },
  {
   "cell_type": "code",
   "execution_count": 2,
   "metadata": {
    "collapsed": false,
    "deletable": true,
    "editable": true
   },
   "outputs": [],
   "source": [
    "base_directory = join(dirname(datasets.__file__), \"scatnet\")"
   ]
  },
  {
   "cell_type": "code",
   "execution_count": 3,
   "metadata": {
    "collapsed": false,
    "deletable": true,
    "editable": true
   },
   "outputs": [
    {
     "name": "stdout",
     "output_type": "stream",
     "text": [
      "|x*psi1|*phi :  [5.66458221]\n",
      "|x*psi2|*phi :  [7.49797662]\n",
      "|x*psi3|*phi :  [10.71004607]\n",
      "|x*psi4|*phi :  [9.54639273]\n",
      "|x*psi5|*phi :  [27.59855115]\n"
     ]
    },
    {
     "name": "stderr",
     "output_type": "stream",
     "text": [
      "/Users/blasscock/Documents/Code/sandia-blusky/blusky/wavelets/wavelet_factories_1d.py:46: RuntimeWarning: invalid value encountered in double_scalars\n",
      "  step = np.pi * 2**(-J/Q) * (1-1/4*sigma0/_sigma_phi*2**(1./Q))/P\n"
     ]
    }
   ],
   "source": [
    "ts = np.genfromtxt(join(base_directory, 'timeseries.csv'),\n",
    "                   delimiter=',', \n",
    "                   skip_header=1)\n",
    "\n",
    "npad = 128\n",
    "padded = np.pad(ts[:128,1], (npad//2,npad//2), mode='reflect')\n",
    "\n",
    "wav = vanilla_morlet_1d(0.001, 5, 0)\n",
    "psi1 = wav.kernel(npad+1)\n",
    "\n",
    "wav = vanilla_morlet_1d(0.001, 5, 1)\n",
    "psi2 = wav.kernel(npad+1)\n",
    "\n",
    "wav = vanilla_morlet_1d(0.001, 5, 2)\n",
    "psi3 = wav.kernel(npad+1)\n",
    "\n",
    "wav = vanilla_morlet_1d(0.001, 5, 3)\n",
    "psi4 = wav.kernel(npad+1)\n",
    "\n",
    "wav = vanilla_morlet_1d(0.001, 5, 4)\n",
    "psi5 = wav.kernel(npad+1)\n",
    "\n",
    "wav = vanilla_gabor_1d(0.001, 5)\n",
    "phi = wav.kernel(128)\n",
    "\n",
    "res = np.convolve(np.abs(np.convolve(padded, psi1, mode='valid')), \n",
    "            phi, mode='valid') \n",
    "print (\"|x*psi1|*phi : \", res.real)\n",
    "\n",
    "res = np.convolve(np.abs(np.convolve(padded, psi2, mode='valid')), \n",
    "            phi, mode='valid') \n",
    "print (\"|x*psi2|*phi : \", res.real)\n",
    "\n",
    "res = np.convolve(np.abs(np.convolve(padded, psi3, mode='valid')), \n",
    "            phi, mode='valid') \n",
    "print (\"|x*psi3|*phi : \", res.real)\n",
    "\n",
    "res = np.convolve(np.abs(np.convolve(padded, psi4, mode='valid')), \n",
    "            phi, mode='valid') \n",
    "print (\"|x*psi4|*phi : \", res.real)\n",
    "\n",
    "res = np.convolve(np.abs(np.convolve(padded, psi5, mode='valid')), \n",
    "            phi, mode='valid') \n",
    "print (\"|x*psi5|*phi : \", res.real)"
   ]
  },
  {
   "cell_type": "code",
   "execution_count": 4,
   "metadata": {
    "collapsed": false,
    "deletable": true,
    "editable": true
   },
   "outputs": [
    {
     "name": "stdout",
     "output_type": "stream",
     "text": [
      "WARNING:tensorflow:From /Users/blasscock/.edm/envs/blusky-test/lib/python3.6/site-packages/Keras-2.2.4-py3.6.egg/keras/backend/tensorflow_backend.py:74: The name tf.get_default_graph is deprecated. Please use tf.compat.v1.get_default_graph instead.\n",
      "\n",
      "WARNING:tensorflow:From /Users/blasscock/.edm/envs/blusky-test/lib/python3.6/site-packages/Keras-2.2.4-py3.6.egg/keras/backend/tensorflow_backend.py:517: The name tf.placeholder is deprecated. Please use tf.compat.v1.placeholder instead.\n",
      "\n",
      "WARNING:tensorflow:From /Users/blasscock/.edm/envs/blusky-test/lib/python3.6/site-packages/tensorflow-1.14.0-py3.6-macosx-10.9-x86_64.egg/tensorflow/python/ops/variables.py:2618: Variable.initialized_value (from tensorflow.python.ops.variables) is deprecated and will be removed in a future version.\n",
      "Instructions for updating:\n",
      "Use Variable.read_value. Variables in 2.X are initialized automatically both in eager and graph (inside tf.defun) contexts.\n"
     ]
    },
    {
     "name": "stderr",
     "output_type": "stream",
     "text": [
      "/Users/blasscock/Documents/Code/sandia-blusky/blusky/wavelets/wavelet_factories_1d.py:46: RuntimeWarning: invalid value encountered in double_scalars\n",
      "  step = np.pi * 2**(-J/Q) * (1-1/4*sigma0/_sigma_phi*2**(1./Q))/P\n"
     ]
    },
    {
     "name": "stdout",
     "output_type": "stream",
     "text": [
      "WARNING:tensorflow:From /Users/blasscock/.edm/envs/blusky-test/lib/python3.6/site-packages/Keras-2.2.4-py3.6.egg/keras/backend/tensorflow_backend.py:2741: The name tf.Session is deprecated. Please use tf.compat.v1.Session instead.\n",
      "\n",
      "WARNING:tensorflow:From /Users/blasscock/.edm/envs/blusky-test/lib/python3.6/site-packages/Keras-2.2.4-py3.6.egg/keras/backend/tensorflow_backend.py:174: The name tf.get_default_session is deprecated. Please use tf.compat.v1.get_default_session instead.\n",
      "\n",
      "WARNING:tensorflow:From /Users/blasscock/.edm/envs/blusky-test/lib/python3.6/site-packages/Keras-2.2.4-py3.6.egg/keras/backend/tensorflow_backend.py:181: The name tf.ConfigProto is deprecated. Please use tf.compat.v1.ConfigProto instead.\n",
      "\n"
     ]
    }
   ],
   "source": [
    "from blusky.wavelets.wavelet_factories_1d import (vanilla_gabor_1d, \n",
    "                                                  vanilla_morlet_1d,\n",
    "                                                  calibrate_wavelets_1d)\n",
    "from keras.layers import Input\n",
    "from keras import Model\n",
    "\n",
    "N = 128\n",
    "order = 2\n",
    "sample_rate = 0.001\n",
    "oversampling = 1\n",
    "conv_padding = \"valid\"\n",
    "J = 5\n",
    "\n",
    "wavelets = [vanilla_morlet_1d(sample_rate, J, j=i) \n",
    "                    for i in range(0,J)]\n",
    "calibrate_wavelets_1d(wavelets)\n",
    "\n",
    "father_wavelet = vanilla_gabor_1d(sample_rate, J)\n",
    "\n",
    "deci = DefaultDecimation(oversampling=oversampling)\n",
    "inp = Input(shape=(N,1))\n",
    "\n",
    "# pad\n",
    "pad_1d = Pad1D(wavelets, decimation=deci, conv_padding=conv_padding)\n",
    "padded = pad_1d.pad(inp)\n",
    "\n",
    "#\n",
    "cascade_tree = CascadeTree(padded, order=order)\n",
    "\n",
    "cascade = Cascade1D(decimation=deci, _padding=conv_padding)\n",
    "convs = cascade.transform(cascade_tree, wavelets=wavelets)\n",
    "\n",
    "# Create layers to remove padding\n",
    "cascade_tree = CascadeTree(padded, order=order)\n",
    "cascade_tree.generate(wavelets, pad_1d.unpad)\n",
    "unpad = cascade_tree.get_convolutions()\n",
    "\n",
    "# Remove the padding\n",
    "unpadded_convs = [i[1](i[0]) for i in zip(convs, unpad)]\n",
    "\n",
    "appl = ApplyFatherWavlet1D(wavelet=father_wavelet, \n",
    "                           J=J, \n",
    "                           img_size=(N,), \n",
    "                           sample_rate=sample_rate)\n",
    "sca_transf = appl.convolve(unpadded_convs)\n",
    "\n",
    "model = Model(inputs=inp, outputs=sca_transf)\n",
    "_model = Model(inputs=inp, outputs=unpadded_convs)\n",
    "\n",
    "ts = np.genfromtxt(join(base_directory, 'timeseries.csv'),\n",
    "        delimiter=',', skip_header=1)\n",
    "\n",
    "data = np.zeros((1,N,1))\n",
    "data[0,:,0] = ts[:N,1]\n",
    "\n",
    "result = model.predict(data)\n",
    "_result = _model.predict(data)"
   ]
  },
  {
   "cell_type": "code",
   "execution_count": 5,
   "metadata": {
    "collapsed": false
   },
   "outputs": [
    {
     "name": "stdout",
     "output_type": "stream",
     "text": [
      "__________________________________________________________________________________________________\n",
      "Layer (type)                    Output Shape         Param #     Connected to                     \n",
      "==================================================================================================\n",
      "input_1 (InputLayer)            (None, 128, 1)       0                                            \n",
      "__________________________________________________________________________________________________\n",
      "reflection_padding1d_1 (Reflect (None, 256, 1)       0           input_1[0][0]                    \n",
      "__________________________________________________________________________________________________\n",
      "reflection_padding1d_2 (Reflect (None, 263, 1)       0           reflection_padding1d_1[0][0]     \n",
      "__________________________________________________________________________________________________\n",
      "reflection_padding1d_3 (Reflect (None, 271, 1)       0           reflection_padding1d_1[0][0]     \n",
      "__________________________________________________________________________________________________\n",
      "reflection_padding1d_4 (Reflect (None, 287, 1)       0           reflection_padding1d_1[0][0]     \n",
      "__________________________________________________________________________________________________\n",
      "reflection_padding1d_5 (Reflect (None, 319, 1)       0           reflection_padding1d_1[0][0]     \n",
      "__________________________________________________________________________________________________\n",
      "conv1d_1 (Conv1D)               (None, 256, 1)       9           reflection_padding1d_2[0][0]     \n",
      "__________________________________________________________________________________________________\n",
      "conv1d_2 (Conv1D)               (None, 256, 1)       9           reflection_padding1d_2[0][0]     \n",
      "__________________________________________________________________________________________________\n",
      "conv1d_3 (Conv1D)               (None, 128, 1)       17          reflection_padding1d_3[0][0]     \n",
      "__________________________________________________________________________________________________\n",
      "conv1d_4 (Conv1D)               (None, 128, 1)       17          reflection_padding1d_3[0][0]     \n",
      "__________________________________________________________________________________________________\n",
      "conv1d_5 (Conv1D)               (None, 64, 1)        33          reflection_padding1d_4[0][0]     \n",
      "__________________________________________________________________________________________________\n",
      "conv1d_6 (Conv1D)               (None, 64, 1)        33          reflection_padding1d_4[0][0]     \n",
      "__________________________________________________________________________________________________\n",
      "conv1d_7 (Conv1D)               (None, 32, 1)        65          reflection_padding1d_5[0][0]     \n",
      "__________________________________________________________________________________________________\n",
      "conv1d_8 (Conv1D)               (None, 32, 1)        65          reflection_padding1d_5[0][0]     \n",
      "__________________________________________________________________________________________________\n",
      "lambda_1 (Lambda)               (None, 256, 1)       0           conv1d_1[0][0]                   \n",
      "                                                                 conv1d_2[0][0]                   \n",
      "__________________________________________________________________________________________________\n",
      "lambda_2 (Lambda)               (None, 128, 1)       0           conv1d_3[0][0]                   \n",
      "                                                                 conv1d_4[0][0]                   \n",
      "__________________________________________________________________________________________________\n",
      "lambda_3 (Lambda)               (None, 64, 1)        0           conv1d_5[0][0]                   \n",
      "                                                                 conv1d_6[0][0]                   \n",
      "__________________________________________________________________________________________________\n",
      "lambda_4 (Lambda)               (None, 32, 1)        0           conv1d_7[0][0]                   \n",
      "                                                                 conv1d_8[0][0]                   \n",
      "__________________________________________________________________________________________________\n",
      "add_1 (Add)                     (None, 256, 1)       0           lambda_1[0][0]                   \n",
      "                                                                 lambda_1[1][0]                   \n",
      "__________________________________________________________________________________________________\n",
      "add_2 (Add)                     (None, 128, 1)       0           lambda_2[0][0]                   \n",
      "                                                                 lambda_2[1][0]                   \n",
      "__________________________________________________________________________________________________\n",
      "add_3 (Add)                     (None, 64, 1)        0           lambda_3[0][0]                   \n",
      "                                                                 lambda_3[1][0]                   \n",
      "__________________________________________________________________________________________________\n",
      "add_4 (Add)                     (None, 32, 1)        0           lambda_4[0][0]                   \n",
      "                                                                 lambda_4[1][0]                   \n",
      "__________________________________________________________________________________________________\n",
      "xpsi1 (Lambda)                  (None, 256, 1)       0           add_1[0][0]                      \n",
      "__________________________________________________________________________________________________\n",
      "xpsi2 (Lambda)                  (None, 128, 1)       0           add_2[0][0]                      \n",
      "__________________________________________________________________________________________________\n",
      "xpsi3 (Lambda)                  (None, 64, 1)        0           add_3[0][0]                      \n",
      "__________________________________________________________________________________________________\n",
      "xpsi4 (Lambda)                  (None, 32, 1)        0           add_4[0][0]                      \n",
      "__________________________________________________________________________________________________\n",
      "reflection_padding1d_6 (Reflect (None, 383, 1)       0           reflection_padding1d_1[0][0]     \n",
      "__________________________________________________________________________________________________\n",
      "reflection_padding1d_7 (Reflect (None, 271, 1)       0           xpsi1[0][0]                      \n",
      "__________________________________________________________________________________________________\n",
      "reflection_padding1d_8 (Reflect (None, 287, 1)       0           xpsi1[0][0]                      \n",
      "__________________________________________________________________________________________________\n",
      "reflection_padding1d_9 (Reflect (None, 319, 1)       0           xpsi1[0][0]                      \n",
      "__________________________________________________________________________________________________\n",
      "reflection_padding1d_10 (Reflec (None, 383, 1)       0           xpsi1[0][0]                      \n",
      "__________________________________________________________________________________________________\n",
      "reflection_padding1d_11 (Reflec (None, 143, 1)       0           xpsi2[0][0]                      \n",
      "__________________________________________________________________________________________________\n",
      "reflection_padding1d_12 (Reflec (None, 159, 1)       0           xpsi2[0][0]                      \n",
      "__________________________________________________________________________________________________\n",
      "reflection_padding1d_13 (Reflec (None, 191, 1)       0           xpsi2[0][0]                      \n",
      "__________________________________________________________________________________________________\n",
      "reflection_padding1d_14 (Reflec (None, 79, 1)        0           xpsi3[0][0]                      \n",
      "__________________________________________________________________________________________________\n",
      "reflection_padding1d_15 (Reflec (None, 95, 1)        0           xpsi3[0][0]                      \n",
      "__________________________________________________________________________________________________\n",
      "reflection_padding1d_16 (Reflec (None, 47, 1)        0           xpsi4[0][0]                      \n",
      "__________________________________________________________________________________________________\n",
      "conv1d_9 (Conv1D)               (None, 16, 1)        129         reflection_padding1d_6[0][0]     \n",
      "__________________________________________________________________________________________________\n",
      "conv1d_10 (Conv1D)              (None, 16, 1)        129         reflection_padding1d_6[0][0]     \n",
      "__________________________________________________________________________________________________\n",
      "conv1d_11 (Conv1D)              (None, 128, 1)       17          reflection_padding1d_7[0][0]     \n",
      "__________________________________________________________________________________________________\n",
      "conv1d_12 (Conv1D)              (None, 128, 1)       17          reflection_padding1d_7[0][0]     \n",
      "__________________________________________________________________________________________________\n",
      "conv1d_13 (Conv1D)              (None, 64, 1)        33          reflection_padding1d_8[0][0]     \n",
      "__________________________________________________________________________________________________\n",
      "conv1d_14 (Conv1D)              (None, 64, 1)        33          reflection_padding1d_8[0][0]     \n",
      "__________________________________________________________________________________________________\n",
      "conv1d_15 (Conv1D)              (None, 32, 1)        65          reflection_padding1d_9[0][0]     \n",
      "__________________________________________________________________________________________________\n",
      "conv1d_16 (Conv1D)              (None, 32, 1)        65          reflection_padding1d_9[0][0]     \n",
      "__________________________________________________________________________________________________\n",
      "conv1d_17 (Conv1D)              (None, 16, 1)        129         reflection_padding1d_10[0][0]    \n",
      "__________________________________________________________________________________________________\n",
      "conv1d_18 (Conv1D)              (None, 16, 1)        129         reflection_padding1d_10[0][0]    \n",
      "__________________________________________________________________________________________________\n",
      "conv1d_19 (Conv1D)              (None, 64, 1)        17          reflection_padding1d_11[0][0]    \n",
      "__________________________________________________________________________________________________\n",
      "conv1d_20 (Conv1D)              (None, 64, 1)        17          reflection_padding1d_11[0][0]    \n",
      "__________________________________________________________________________________________________\n",
      "conv1d_21 (Conv1D)              (None, 32, 1)        33          reflection_padding1d_12[0][0]    \n",
      "__________________________________________________________________________________________________\n",
      "conv1d_22 (Conv1D)              (None, 32, 1)        33          reflection_padding1d_12[0][0]    \n",
      "__________________________________________________________________________________________________\n",
      "conv1d_23 (Conv1D)              (None, 16, 1)        65          reflection_padding1d_13[0][0]    \n",
      "__________________________________________________________________________________________________\n",
      "conv1d_24 (Conv1D)              (None, 16, 1)        65          reflection_padding1d_13[0][0]    \n",
      "__________________________________________________________________________________________________\n",
      "conv1d_25 (Conv1D)              (None, 32, 1)        17          reflection_padding1d_14[0][0]    \n",
      "__________________________________________________________________________________________________\n",
      "conv1d_26 (Conv1D)              (None, 32, 1)        17          reflection_padding1d_14[0][0]    \n",
      "__________________________________________________________________________________________________\n",
      "conv1d_27 (Conv1D)              (None, 16, 1)        33          reflection_padding1d_15[0][0]    \n",
      "__________________________________________________________________________________________________\n",
      "conv1d_28 (Conv1D)              (None, 16, 1)        33          reflection_padding1d_15[0][0]    \n",
      "__________________________________________________________________________________________________\n",
      "conv1d_29 (Conv1D)              (None, 16, 1)        17          reflection_padding1d_16[0][0]    \n",
      "__________________________________________________________________________________________________\n",
      "conv1d_30 (Conv1D)              (None, 16, 1)        17          reflection_padding1d_16[0][0]    \n",
      "__________________________________________________________________________________________________\n",
      "lambda_5 (Lambda)               (None, 16, 1)        0           conv1d_9[0][0]                   \n",
      "                                                                 conv1d_10[0][0]                  \n",
      "__________________________________________________________________________________________________\n",
      "lambda_6 (Lambda)               (None, 128, 1)       0           conv1d_11[0][0]                  \n",
      "                                                                 conv1d_12[0][0]                  \n",
      "__________________________________________________________________________________________________\n",
      "lambda_7 (Lambda)               (None, 64, 1)        0           conv1d_13[0][0]                  \n",
      "                                                                 conv1d_14[0][0]                  \n",
      "__________________________________________________________________________________________________\n",
      "lambda_8 (Lambda)               (None, 32, 1)        0           conv1d_15[0][0]                  \n",
      "                                                                 conv1d_16[0][0]                  \n",
      "__________________________________________________________________________________________________\n",
      "lambda_9 (Lambda)               (None, 16, 1)        0           conv1d_17[0][0]                  \n",
      "                                                                 conv1d_18[0][0]                  \n",
      "__________________________________________________________________________________________________\n",
      "lambda_10 (Lambda)              (None, 64, 1)        0           conv1d_19[0][0]                  \n",
      "                                                                 conv1d_20[0][0]                  \n",
      "__________________________________________________________________________________________________\n",
      "lambda_11 (Lambda)              (None, 32, 1)        0           conv1d_21[0][0]                  \n",
      "                                                                 conv1d_22[0][0]                  \n",
      "__________________________________________________________________________________________________\n",
      "lambda_12 (Lambda)              (None, 16, 1)        0           conv1d_23[0][0]                  \n",
      "                                                                 conv1d_24[0][0]                  \n",
      "__________________________________________________________________________________________________\n",
      "lambda_13 (Lambda)              (None, 32, 1)        0           conv1d_25[0][0]                  \n",
      "                                                                 conv1d_26[0][0]                  \n",
      "__________________________________________________________________________________________________\n",
      "lambda_14 (Lambda)              (None, 16, 1)        0           conv1d_27[0][0]                  \n",
      "                                                                 conv1d_28[0][0]                  \n",
      "__________________________________________________________________________________________________\n",
      "lambda_15 (Lambda)              (None, 16, 1)        0           conv1d_29[0][0]                  \n",
      "                                                                 conv1d_30[0][0]                  \n",
      "__________________________________________________________________________________________________\n",
      "add_5 (Add)                     (None, 16, 1)        0           lambda_5[0][0]                   \n",
      "                                                                 lambda_5[1][0]                   \n",
      "__________________________________________________________________________________________________\n",
      "add_6 (Add)                     (None, 128, 1)       0           lambda_6[0][0]                   \n",
      "                                                                 lambda_6[1][0]                   \n",
      "__________________________________________________________________________________________________\n",
      "add_7 (Add)                     (None, 64, 1)        0           lambda_7[0][0]                   \n",
      "                                                                 lambda_7[1][0]                   \n",
      "__________________________________________________________________________________________________\n",
      "add_8 (Add)                     (None, 32, 1)        0           lambda_8[0][0]                   \n",
      "                                                                 lambda_8[1][0]                   \n",
      "__________________________________________________________________________________________________\n",
      "add_9 (Add)                     (None, 16, 1)        0           lambda_9[0][0]                   \n",
      "                                                                 lambda_9[1][0]                   \n",
      "__________________________________________________________________________________________________\n",
      "add_10 (Add)                    (None, 64, 1)        0           lambda_10[0][0]                  \n",
      "                                                                 lambda_10[1][0]                  \n",
      "__________________________________________________________________________________________________\n",
      "add_11 (Add)                    (None, 32, 1)        0           lambda_11[0][0]                  \n",
      "                                                                 lambda_11[1][0]                  \n",
      "__________________________________________________________________________________________________\n",
      "add_12 (Add)                    (None, 16, 1)        0           lambda_12[0][0]                  \n",
      "                                                                 lambda_12[1][0]                  \n",
      "__________________________________________________________________________________________________\n",
      "add_13 (Add)                    (None, 32, 1)        0           lambda_13[0][0]                  \n",
      "                                                                 lambda_13[1][0]                  \n",
      "__________________________________________________________________________________________________\n",
      "add_14 (Add)                    (None, 16, 1)        0           lambda_14[0][0]                  \n",
      "                                                                 lambda_14[1][0]                  \n",
      "__________________________________________________________________________________________________\n",
      "add_15 (Add)                    (None, 16, 1)        0           lambda_15[0][0]                  \n",
      "                                                                 lambda_15[1][0]                  \n",
      "__________________________________________________________________________________________________\n",
      "xpsi5 (Lambda)                  (None, 16, 1)        0           add_5[0][0]                      \n",
      "__________________________________________________________________________________________________\n",
      "xpsi1psi2 (Lambda)              (None, 128, 1)       0           add_6[0][0]                      \n",
      "__________________________________________________________________________________________________\n",
      "xpsi1psi3 (Lambda)              (None, 64, 1)        0           add_7[0][0]                      \n",
      "__________________________________________________________________________________________________\n",
      "xpsi1psi4 (Lambda)              (None, 32, 1)        0           add_8[0][0]                      \n",
      "__________________________________________________________________________________________________\n",
      "xpsi1psi5 (Lambda)              (None, 16, 1)        0           add_9[0][0]                      \n",
      "__________________________________________________________________________________________________\n",
      "xpsi2psi3 (Lambda)              (None, 64, 1)        0           add_10[0][0]                     \n",
      "__________________________________________________________________________________________________\n",
      "xpsi2psi4 (Lambda)              (None, 32, 1)        0           add_11[0][0]                     \n",
      "__________________________________________________________________________________________________\n",
      "xpsi2psi5 (Lambda)              (None, 16, 1)        0           add_12[0][0]                     \n",
      "__________________________________________________________________________________________________\n",
      "xpsi3psi4 (Lambda)              (None, 32, 1)        0           add_13[0][0]                     \n",
      "__________________________________________________________________________________________________\n",
      "xpsi3psi5 (Lambda)              (None, 16, 1)        0           add_14[0][0]                     \n",
      "__________________________________________________________________________________________________\n",
      "xpsi4psi5 (Lambda)              (None, 16, 1)        0           add_15[0][0]                     \n",
      "__________________________________________________________________________________________________\n",
      "xpsi1unpadded (Lambda)          (None, 128, 1)       0           xpsi1[0][0]                      \n",
      "__________________________________________________________________________________________________\n",
      "xpsi2unpadded (Lambda)          (None, 64, 1)        0           xpsi2[0][0]                      \n",
      "__________________________________________________________________________________________________\n",
      "xpsi3unpadded (Lambda)          (None, 32, 1)        0           xpsi3[0][0]                      \n",
      "__________________________________________________________________________________________________\n",
      "xpsi4unpadded (Lambda)          (None, 16, 1)        0           xpsi4[0][0]                      \n",
      "__________________________________________________________________________________________________\n",
      "xpsi5unpadded (Lambda)          (None, 8, 1)         0           xpsi5[0][0]                      \n",
      "__________________________________________________________________________________________________\n",
      "xpsi1psi2unpadded (Lambda)      (None, 64, 1)        0           xpsi1psi2[0][0]                  \n",
      "__________________________________________________________________________________________________\n",
      "xpsi1psi3unpadded (Lambda)      (None, 32, 1)        0           xpsi1psi3[0][0]                  \n",
      "__________________________________________________________________________________________________\n",
      "xpsi1psi4unpadded (Lambda)      (None, 16, 1)        0           xpsi1psi4[0][0]                  \n",
      "__________________________________________________________________________________________________\n",
      "xpsi1psi5unpadded (Lambda)      (None, 8, 1)         0           xpsi1psi5[0][0]                  \n",
      "__________________________________________________________________________________________________\n",
      "xpsi2psi3unpadded (Lambda)      (None, 32, 1)        0           xpsi2psi3[0][0]                  \n",
      "__________________________________________________________________________________________________\n",
      "xpsi2psi4unpadded (Lambda)      (None, 16, 1)        0           xpsi2psi4[0][0]                  \n",
      "__________________________________________________________________________________________________\n",
      "xpsi2psi5unpadded (Lambda)      (None, 8, 1)         0           xpsi2psi5[0][0]                  \n",
      "__________________________________________________________________________________________________\n",
      "xpsi3psi4unpadded (Lambda)      (None, 16, 1)        0           xpsi3psi4[0][0]                  \n",
      "__________________________________________________________________________________________________\n",
      "xpsi3psi5unpadded (Lambda)      (None, 8, 1)         0           xpsi3psi5[0][0]                  \n",
      "__________________________________________________________________________________________________\n",
      "xpsi4psi5unpadded (Lambda)      (None, 8, 1)         0           xpsi4psi5[0][0]                  \n",
      "==================================================================================================\n",
      "Total params: 1,358\n",
      "Trainable params: 0\n",
      "Non-trainable params: 1,358\n",
      "__________________________________________________________________________________________________\n"
     ]
    }
   ],
   "source": [
    "_model.summary()"
   ]
  },
  {
   "cell_type": "code",
   "execution_count": 10,
   "metadata": {
    "collapsed": false,
    "deletable": true,
    "editable": true
   },
   "outputs": [],
   "source": [
    "result = np.squeeze(result)"
   ]
  },
  {
   "cell_type": "code",
   "execution_count": 11,
   "metadata": {
    "collapsed": false
   },
   "outputs": [
    {
     "data": {
      "text/plain": [
       "array([ 5.5963373,  7.408911 , 10.7206335,  9.6476755, 26.022112 ,\n",
       "        1.3639561,  1.1336482,  0.6267049,  0.8982139,  1.9767132,\n",
       "        3.1654398,  2.3594644,  2.9675317,  1.4647076,  7.298035 ],\n",
       "      dtype=float32)"
      ]
     },
     "execution_count": 11,
     "metadata": {},
     "output_type": "execute_result"
    }
   ],
   "source": [
    "result"
   ]
  },
  {
   "cell_type": "code",
   "execution_count": 12,
   "metadata": {
    "collapsed": false
   },
   "outputs": [
    {
     "data": {
      "image/png": "[encoded data removed]",
      "text/plain": [
       "<Figure size 432x288 with 1 Axes>"
      ]
     },
     "metadata": {
      "needs_background": "light"
     },
     "output_type": "display_data"
    },
    {
     "data": {
      "image/png": "[encoded data removed]",
      "text/plain": [
       "<Figure size 432x288 with 1 Axes>"
      ]
     },
     "metadata": {
      "needs_background": "light"
     },
     "output_type": "display_data"
    },
    {
     "data": {
      "image/png": "[encoded data removed]",
      "text/plain": [
       "<Figure size 432x288 with 1 Axes>"
      ]
     },
     "metadata": {
      "needs_background": "light"
     },
     "output_type": "display_data"
    }
   ],
   "source": [
    "# direct method (above)\n",
    "direct = [5.66458221, 7.49797662, 10.71004607, 9.54639273, 27.59855115]\n",
    "\n",
    "# scatnet solution with ds/2 -> ds change\n",
    "first_order = [5.4714, 7.2365, 10.4748, 9.4107, 25.3561]\n",
    "second_order = [1.3031, 1.0821, 0.5982, 0.8612, 1.8940, 3.0288, 2.2791,\n",
    "                2.8406, 1.4867, 7.0400]\n",
    "\n",
    "# direct computation (conv above, not padding)\n",
    "plt.figure()\n",
    "plt.plot(direct , 'r*', markersize=4)\n",
    "plt.plot(result[:5] , 'bo', markersize=4)\n",
    "plt.legend(['direct', 'blusky'])\n",
    "plt.show()\n",
    "\n",
    "# scatnet vs blusky \n",
    "plt.figure()\n",
    "plt.plot(first_order , 'r*', markersize=4)\n",
    "plt.plot(result[:5] , 'bo', markersize=4)\n",
    "plt.legend(['scatnet', 'blusky'])\n",
    "plt.show()\n",
    "\n",
    "plt.figure()\n",
    "plt.plot(second_order , 'r*', markersize=4)\n",
    "plt.plot(result[5:] , 'bo', markersize=4)\n",
    "plt.legend(['scatnet', 'blusky'])\n",
    "plt.show()"
   ]
  },
  {
   "cell_type": "code",
   "execution_count": null,
   "metadata": {
    "collapsed": true
   },
   "outputs": [],
   "source": []
  }
 ],
 "metadata": {
  "kernelspec": {
   "display_name": "Python 3",
   "language": "python",
   "name": "python3"
  },
  "language_info": {
   "codemirror_mode": {
    "name": "ipython",
    "version": 3
   },
   "file_extension": ".py",
   "mimetype": "text/x-python",
   "name": "python",
   "nbconvert_exporter": "python",
   "pygments_lexer": "ipython3",
   "version": "3.6.5"
  }
 },
 "nbformat": 4,
 "nbformat_minor": 2
}

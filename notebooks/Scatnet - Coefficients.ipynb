{
 "cells": [
  {
   "cell_type": "code",
   "execution_count": 1,
   "metadata": {
    "collapsed": false,
    "deletable": true,
    "editable": true,
    "jupyter": {
     "outputs_hidden": false
    }
   },
   "outputs": [],
   "source": [
    "import numpy as np\n",
    "import matplotlib.pylab as plt\n",
    "import re\n",
    "from os.path import dirname, join\n",
    "\n",
    "import tensorflow.keras.backend as keras_backend\n",
    "from tensorflow.keras.layers import Conv1D, Lambda, Add\n",
    "\n",
    "from traits.api import Enum, HasStrictTraits, Int, Instance, List, Tuple\n",
    "\n",
    "from blusky.transforms.apply_father_wavelet_1d import ApplyFatherWavlet1D\n",
    "from blusky.transforms.cascade_tree import CascadeTree\n",
    "from blusky.transforms.cascade_1d import Cascade1D\n",
    "import blusky.datasets as datasets\n",
    "from blusky.transforms.default_decimation import (NoDecimation, \n",
    "                                                  DefaultDecimation)\n",
    "from blusky.transforms.i_decimation_method import IDecimationMethod\n",
    "from blusky.wavelets.i_wavelet_1d import IWavelet1D\n",
    "from blusky.utils.pad_1d import pad_to_log2, Pad1D\n",
    "\n",
    "from blusky.wavelets.wavelet_factories_1d import (morlet_freq_1d,\n",
    "                                                  vanilla_gabor_1d, \n",
    "                                                  vanilla_morlet_1d)"
   ]
  },
  {
   "cell_type": "code",
   "execution_count": 2,
   "metadata": {
    "collapsed": false,
    "deletable": true,
    "editable": true,
    "jupyter": {
     "outputs_hidden": false
    }
   },
   "outputs": [],
   "source": [
    "base_directory = join(dirname(datasets.__file__), \"scatnet\")"
   ]
  },
  {
   "cell_type": "code",
   "execution_count": 3,
   "metadata": {
    "collapsed": false,
    "deletable": true,
    "editable": true,
    "jupyter": {
     "outputs_hidden": false
    }
   },
   "outputs": [
    {
     "name": "stdout",
     "output_type": "stream",
     "text": [
      "|x*psi1|*phi :  [5.66458221]\n",
      "|x*psi2|*phi :  [7.49797662]\n",
      "|x*psi3|*phi :  [10.71004607]\n",
      "|x*psi4|*phi :  [9.54639273]\n",
      "|x*psi5|*phi :  [27.59855115]\n"
     ]
    }
   ],
   "source": [
    "ts = np.genfromtxt(join(base_directory, 'timeseries.csv'),\n",
    "                   delimiter=',', \n",
    "                   skip_header=1)\n",
    "\n",
    "npad = 128\n",
    "padded = np.pad(ts[:128,1], (npad//2,npad//2), mode='reflect')\n",
    "\n",
    "wav = vanilla_morlet_1d(0.001, 5, 0)\n",
    "psi1 = wav.kernel(npad+1)\n",
    "\n",
    "wav = vanilla_morlet_1d(0.001, 5, 1)\n",
    "psi2 = wav.kernel(npad+1)\n",
    "\n",
    "wav = vanilla_morlet_1d(0.001, 5, 2)\n",
    "psi3 = wav.kernel(npad+1)\n",
    "\n",
    "wav = vanilla_morlet_1d(0.001, 5, 3)\n",
    "psi4 = wav.kernel(npad+1)\n",
    "\n",
    "wav = vanilla_morlet_1d(0.001, 5, 4)\n",
    "psi5 = wav.kernel(npad+1)\n",
    "\n",
    "wav = vanilla_gabor_1d(0.001, 5)\n",
    "phi = wav.kernel(128)\n",
    "\n",
    "res = np.convolve(np.abs(np.convolve(padded, psi1, mode='valid')), \n",
    "            phi, mode='valid') \n",
    "print (\"|x*psi1|*phi : \", res.real)\n",
    "\n",
    "res = np.convolve(np.abs(np.convolve(padded, psi2, mode='valid')), \n",
    "            phi, mode='valid') \n",
    "print (\"|x*psi2|*phi : \", res.real)\n",
    "\n",
    "res = np.convolve(np.abs(np.convolve(padded, psi3, mode='valid')), \n",
    "            phi, mode='valid') \n",
    "print (\"|x*psi3|*phi : \", res.real)\n",
    "\n",
    "res = np.convolve(np.abs(np.convolve(padded, psi4, mode='valid')), \n",
    "            phi, mode='valid') \n",
    "print (\"|x*psi4|*phi : \", res.real)\n",
    "\n",
    "res = np.convolve(np.abs(np.convolve(padded, psi5, mode='valid')), \n",
    "            phi, mode='valid') \n",
    "print (\"|x*psi5|*phi : \", res.real)"
   ]
  },
  {
   "cell_type": "code",
   "execution_count": 4,
   "metadata": {
    "collapsed": false,
    "deletable": true,
    "editable": true,
    "jupyter": {
     "outputs_hidden": false
    }
   },
   "outputs": [],
   "source": [
    "from blusky.wavelets.wavelet_factories_1d import (vanilla_gabor_1d, \n",
    "                                                  vanilla_morlet_1d,\n",
    "                                                  calibrate_wavelets_1d)\n",
    "from tensorflow.keras.layers import Input\n",
    "from tensorflow.keras import Model\n",
    "\n",
    "N = 128\n",
    "order = 2\n",
    "sample_rate = 0.001\n",
    "oversampling = 2\n",
    "conv_padding = \"same\"\n",
    "J = 5\n",
    "\n",
    "wavelets = [vanilla_morlet_1d(sample_rate, J, j=i) \n",
    "                    for i in range(0,J)]\n",
    "calibrate_wavelets_1d(wavelets)\n",
    "\n",
    "father_wavelet = vanilla_gabor_1d(sample_rate, J)\n",
    "\n",
    "deci = DefaultDecimation(oversampling=oversampling)\n",
    "inp = Input(shape=(N,1))\n",
    "\n",
    "# pad\n",
    "pad_1d = Pad1D(wavelets, decimation=deci, \n",
    "               conv_padding=conv_padding)\n",
    "padded = pad_1d.pad(inp)\n",
    "\n",
    "cascade_tree = CascadeTree(padded, order=order)\n",
    "\n",
    "cascade = Cascade1D(decimation=deci, _padding=conv_padding)\n",
    "convs = cascade.transform(cascade_tree, wavelets=wavelets)\n",
    "\n",
    "# Create layers to remove padding\n",
    "cascade_tree = CascadeTree(padded, order=order)\n",
    "cascade_tree.generate(wavelets, pad_1d.unpad)\n",
    "unpad = cascade_tree.get_convolutions()\n",
    "\n",
    "# Remove the padding\n",
    "unpadded_convs = [i[1](i[0]) for i in zip(convs, unpad)]\n",
    "\n",
    "appl = ApplyFatherWavlet1D(wavelet=father_wavelet, \n",
    "                           J=J, \n",
    "                           img_size=(N,), \n",
    "                           sample_rate=sample_rate)"
   ]
  },
  {
   "cell_type": "code",
   "execution_count": 5,
   "metadata": {},
   "outputs": [],
   "source": [
    "sca_transf = appl.convolve(unpadded_convs)\n",
    "# implement scattering transform.\n",
    "model = Model(inputs=inp, outputs=sca_transf)\n",
    "# just do convolutions\n",
    "_model = Model(inputs=inp, outputs=unpadded_convs)"
   ]
  },
  {
   "cell_type": "code",
   "execution_count": 6,
   "metadata": {},
   "outputs": [],
   "source": [
    "ts = np.genfromtxt(join(base_directory, 'timeseries.csv'),\n",
    "        delimiter=',', skip_header=1)\n",
    "\n",
    "data = np.zeros((1,N,1))\n",
    "data[0,:,0] = ts[:N,1]\n",
    "\n",
    "result = model.predict(data)\n",
    "#_result = _model.predict(data)"
   ]
  },
  {
   "cell_type": "code",
   "execution_count": 7,
   "metadata": {
    "collapsed": false,
    "deletable": true,
    "editable": true,
    "jupyter": {
     "outputs_hidden": false
    }
   },
   "outputs": [],
   "source": [
    "result = np.squeeze(result)"
   ]
  },
  {
   "cell_type": "code",
   "execution_count": 8,
   "metadata": {
    "collapsed": false,
    "jupyter": {
     "outputs_hidden": false
    }
   },
   "outputs": [
    {
     "data": {
      "image/png": "[encoded data removed]",
      "text/plain": [
       "<Figure size 432x288 with 1 Axes>"
      ]
     },
     "metadata": {
      "needs_background": "light"
     },
     "output_type": "display_data"
    },
    {
     "data": {
      "image/png": "[encoded data removed]",
      "text/plain": [
       "<Figure size 432x288 with 1 Axes>"
      ]
     },
     "metadata": {
      "needs_background": "light"
     },
     "output_type": "display_data"
    },
    {
     "data": {
      "image/png": "[encoded data removed]",
      "text/plain": [
       "<Figure size 432x288 with 1 Axes>"
      ]
     },
     "metadata": {
      "needs_background": "light"
     },
     "output_type": "display_data"
    }
   ],
   "source": [
    "# direct method (above) first order\n",
    "direct = [5.66458221, 7.49797662, 10.71004607, 9.54639273, 27.59855115]\n",
    "\n",
    "# scatnet solution with ds/2 -> ds change\n",
    "first_order = [5.4714, 7.2365, 10.4748, 9.4107, 25.3561]\n",
    "second_order = [1.3031, 1.0821, 0.5982, 0.8612, 1.8940, 3.0288, \n",
    "                2.2791, 2.8406, 1.4867, 7.0400]\n",
    "\n",
    "# direct computation (conv above, not padding)\n",
    "plt.figure()\n",
    "plt.plot(direct , 'r*', markersize=4)\n",
    "plt.plot(result[:5] , 'bo', markersize=4)\n",
    "plt.legend(['direct', 'blusky'])\n",
    "plt.ylim([0,25])\n",
    "plt.show()\n",
    "\n",
    "# scatnet vs blusky \n",
    "plt.figure()\n",
    "plt.plot(first_order , 'r*', markersize=4)\n",
    "plt.plot(result[:5] , 'bo', markersize=4)\n",
    "plt.legend(['scatnet', 'blusky'])\n",
    "plt.ylim([0,25])\n",
    "plt.show()\n",
    "\n",
    "plt.figure()\n",
    "plt.plot(second_order , 'r*', markersize=4)\n",
    "plt.plot(result[5:] , 'bo', markersize=4)\n",
    "plt.legend(['scatnet', 'blusky'])\n",
    "plt.ylim([0,25])\n",
    "plt.show()"
   ]
  },
  {
   "cell_type": "code",
   "execution_count": null,
   "metadata": {},
   "outputs": [],
   "source": []
  },
  {
   "cell_type": "code",
   "execution_count": null,
   "metadata": {},
   "outputs": [],
   "source": []
  }
 ],
 "metadata": {
  "kernelspec": {
   "display_name": "blusky-env",
   "language": "python",
   "name": "blusky-env"
  },
  "language_info": {
   "codemirror_mode": {
    "name": "ipython",
    "version": 3
   },
   "file_extension": ".py",
   "mimetype": "text/x-python",
   "name": "python",
   "nbconvert_exporter": "python",
   "pygments_lexer": "ipython3",
   "version": "3.8.8"
  }
 },
 "nbformat": 4,
 "nbformat_minor": 4
}
